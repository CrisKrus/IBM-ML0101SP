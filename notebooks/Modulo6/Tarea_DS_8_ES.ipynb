{
  "cells": [
    {
      "cell_type": "markdown",
      "metadata": {
        "button": false,
        "new_sheet": false,
        "run_control": {
          "read_only": false
        },
        "id": "iqTfPOlEMWXb"
      },
      "source": [
        "<a href=\"https://www.bigdatauniversity.com\"><img src=\"https://ibm.box.com/shared/static/cw2c7r3o20w9zn8gkecaeyjhgw3xdgbj.png\" width=\"400\" align=\"center\"></a>\n",
        "\n",
        "<h1 align=\"center\"><font size=\"5\">Clasificación con Python</font></h1>\n"
      ]
    },
    {
      "cell_type": "markdown",
      "metadata": {
        "button": false,
        "new_sheet": false,
        "run_control": {
          "read_only": false
        },
        "id": "k3pwAUG4MWXd"
      },
      "source": [
        "En este cuaderno trataremos de practicar todos los algoritmos de clasificación aprendidos durante el curso.\n",
        "\n",
        "Cargaremos un conjunto de datos mediante la librería Pandas, aplicaremos los siguientes algoritmos y encontraremos el mejor para este conjunto en específico con métodos precisos de evaluación.\n",
        "\n",
        "Cargemos primero las librerías necesarias:\n"
      ]
    },
    {
      "cell_type": "code",
      "execution_count": 136,
      "metadata": {
        "button": false,
        "new_sheet": false,
        "run_control": {
          "read_only": false
        },
        "id": "10bBftgBMWXd"
      },
      "outputs": [],
      "source": [
        "import itertools\n",
        "import numpy as np\n",
        "import matplotlib.pyplot as plt\n",
        "from matplotlib.ticker import NullFormatter\n",
        "import pandas as pd\n",
        "import numpy as np\n",
        "import matplotlib.ticker as ticker\n",
        "from sklearn import preprocessing\n",
        "%matplotlib inline"
      ]
    },
    {
      "cell_type": "markdown",
      "metadata": {
        "button": false,
        "new_sheet": false,
        "run_control": {
          "read_only": false
        },
        "id": "4dRQUPGIMWXe"
      },
      "source": [
        "### Acerca del conjunto de datos\n"
      ]
    },
    {
      "cell_type": "markdown",
      "metadata": {
        "button": false,
        "new_sheet": false,
        "run_control": {
          "read_only": false
        },
        "id": "qB5ugDrxMWXe"
      },
      "source": [
        "Este conjunto de datos trata sobre el desempeño de diversos equipos de baloncesto. El conjunto **cbb.csv** incluye información sobre el desempeño de 354 equipos a lo largo de cinco temporadas. Contiene los siguientes campos de información:\n",
        "\n",
        "| Campo      | Descripción                                                                                                                                                                                                                                                                                                                                                                                                                                                                                                                                                                                                                                                                                                                                                                                                                                                             |\n",
        "| ---------- | ----------------------------------------------------------------------------------------------------------------------------------------------------------------------------------------------------------------------------------------------------------------------------------------------------------------------------------------------------------------------------------------------------------------------------------------------------------------------------------------------------------------------------------------------------------------------------------------------------------------------------------------------------------------------------------------------------------------------------------------------------------------------------------------------------------------------------------------------------------------------- |\n",
        "| TEAM       | El equipo escolar de baloncesto de División I                                                                                                                                                                                                                                                                                                                                                                                                                                                                                                                                                                                                                                                                                                                                                                                                                           |\n",
        "| CONF       | Conferencia Deportiva en la que participa la escuela (A10 = Atlantic 10, ACC = Atlantic Coast Conference, AE = America East, Amer = American, ASun = ASUN, B10 = Big Ten, B12 = Big 12, BE = Big East, BSky = Big Sky, BSth = Big South, BW = Big West, CAA = Colonial Athletic Association, CUSA = Conference USA, Horz = Horizon League, Ivy = Ivy League, MAAC = Metro Atlantic Athletic Conference, MAC = Mid-American Conference, MEAC = Mid-Eastern Athletic Conference, MVC = Missouri Valley Conference, MWC = Mountain West, NEC = Northeast Conference, OVC = Ohio Valley Conference, P12 = Pac-12, Pat = Patriot League, SB = Sun Belt, SC = Southern Conference, SEC = South Eastern Conference, Slnd = Southland Conference, Sum = Summit League, SWAC = Southwestern Athletic Conference, WAC = Western Athletic Conference, WCC = West Coast Conference) |\n",
        "| G          | Número de partidos jugados                                                                                                                                                                                                                                                                                                                                                                                                                                                                                                                                                                                                                                                                                                                                                                                                                                              |\n",
        "| W          | Número de partidos ganados                                                                                                                                                                                                                                                                                                                                                                                                                                                                                                                                                                                                                                                                                                                                                                                                                                              |\n",
        "| ADJOE      | Adjusted Offensive Efficiency / Eficiencia Ofensiva (Una estimación de la eficiencia ofensiva (puntos anotados por cada 100 posesiones) que un equipo tendría respecto al promedio defensivo de la División I)                                                                                                                                                                                                                                                                                                                                                                                                                                                                                                                                                                                                                                                          |\n",
        "| ADJDE      | Adjusted Defensive Efficiency / Eficiencia Defensiva (Una estimación de la eficiencia defensiva (puntos permitidos por cada 100 posesiones) que un equipo tendría respecto al promedio ofensivo de la División I)                                                                                                                                                                                                                                                                                                                                                                                                                                                                                                                                                                                                                                                       |\n",
        "| BARTHAG    | Power Rating / Clasificación (La oportunidad de superar el promedio de un equipo de la División I)                                                                                                                                                                                                                                                                                                                                                                                                                                                                                                                                                                                                                                                                                                                                                                      |\n",
        "| EFG_O      | Porcentaje de Efectividad de Tiro                                                                                                                                                                                                                                                                                                                                                                                                                                                                                                                                                                                                                                                                                                                                                                                                                                       |\n",
        "| EFG_D      | Porcentaje de Efectividad Permitido                                                                                                                                                                                                                                                                                                                                                                                                                                                                                                                                                                                                                                                                                                                                                                                                                                     |\n",
        "| TOR        | Porcentaje de Rotación Permitido (Clasificación de Rotación)                                                                                                                                                                                                                                                                                                                                                                                                                                                                                                                                                                                                                                                                                                                                                                                                            |\n",
        "| TORD       | Porcentaje de Rotación Ejecutado (Steal Rate)                                                                                                                                                                                                                                                                                                                                                                                                                                                                                                                                                                                                                                                                                                                                                                                                                           |\n",
        "| ORB        | Porcentaje de Rebote Ofensivo                                                                                                                                                                                                                                                                                                                                                                                                                                                                                                                                                                                                                                                                                                                                                                                                                                           |\n",
        "| DRB        | Porcentaje de Rebote Defensivo                                                                                                                                                                                                                                                                                                                                                                                                                                                                                                                                                                                                                                                                                                                                                                                                                                          |\n",
        "| FTR        | Tasa de Tiro Libre (Que tan a menudo el equipo realiza tiros libres)                                                                                                                                                                                                                                                                                                                                                                                                                                                                                                                                                                                                                                                                                                                                                                                                    |\n",
        "| FTRD       | Tasa de Tiro Libre Permitido                                                                                                                                                                                                                                                                                                                                                                                                                                                                                                                                                                                                                                                                                                                                                                                                                                            |\n",
        "| 2P_O       | Porcentaje de Tiros de Dos Puntos                                                                                                                                                                                                                                                                                                                                                                                                                                                                                                                                                                                                                                                                                                                                                                                                                                       |\n",
        "| 2P_D       | Porcentaje de Tiros de Dos Puntos Permitidos                                                                                                                                                                                                                                                                                                                                                                                                                                                                                                                                                                                                                                                                                                                                                                                                                            |\n",
        "| 3P_O       | Porcentaje de Tiros de Tres Puntos                                                                                                                                                                                                                                                                                                                                                                                                                                                                                                                                                                                                                                                                                                                                                                                                                                      |\n",
        "| 3P_D       | Porcentaje de Tiros de Tres Puntos Permitidos                                                                                                                                                                                                                                                                                                                                                                                                                                                                                                                                                                                                                                                                                                                                                                                                                           |\n",
        "| ADJ_T      | Tempo Ajustado (Estimación del tempo (posesiones por cada 40 minutos) que un equipo tendría respecto aquel equipo que quisiera juagar con el tempo promedio de la División I)                                                                                                                                                                                                                                                                                                                                                                                                                                                                                                                                                                                                                                                                                           |\n",
        "| WAB        | Victorias sobre Burbuja (La burbuja se refiere al corte entre lograr el NCAA March Madness Tournament y no)                                                                                                                                                                                                                                                                                                                                                                                                                                                                                                                                                                                                                                                                                                                                                             |\n",
        "| POSTSEASON | Ronda donde el equipo fue eliminado o donde finalizó su temporada (R68 = Primeros Cuatro, R64 = Ronda de 64, R32 = Ronda de 32, S16 = Sweet Sixteen, E8 = Elite Eight, F4 = Ultimos Cuatro, 2ND = Subcampeón, Champion = Ganador del NCAA March Madness Tournament de ese año)                                                                                                                                                                                                                                                                                                                                                                                                                                                                                                                                                                                          |\n",
        "| SEED       | Semilla del NCAA March Madness Tournament                                                                                                                                                                                                                                                                                                                                                                                                                                                                                                                                                                                                                                                                                                                                                                                                                               |\n",
        "| YEAR       | Temporada                                                                                                                                                                                                                                                                                                                                                                                                                                                                                                                                                                                                                                                                                                                                                                                                                                                               |\n"
      ]
    },
    {
      "cell_type": "markdown",
      "metadata": {
        "button": false,
        "new_sheet": false,
        "run_control": {
          "read_only": false
        },
        "id": "gyW9cEbOMWXi"
      },
      "source": [
        "### Cargar datos desde el archivo CSV\n"
      ]
    },
    {
      "cell_type": "markdown",
      "metadata": {
        "button": false,
        "new_sheet": false,
        "run_control": {
          "read_only": false
        },
        "id": "_C8SEpHbMWXj"
      },
      "source": [
        "Cargemo el conjunto de datos [NB Necesita dar el enlace hacia el archivo csv]\n"
      ]
    },
    {
      "cell_type": "code",
      "execution_count": 137,
      "metadata": {
        "button": false,
        "new_sheet": false,
        "run_control": {
          "read_only": false
        },
        "colab": {
          "base_uri": "https://localhost:8080/",
          "height": 261
        },
        "id": "_A8HCTJUMWXj",
        "outputId": "3c39c96b-0438-493a-c779-3ab97b9dea6b"
      },
      "outputs": [
        {
          "output_type": "execute_result",
          "data": {
            "text/html": [
              "<div>\n",
              "<style scoped>\n",
              "    .dataframe tbody tr th:only-of-type {\n",
              "        vertical-align: middle;\n",
              "    }\n",
              "\n",
              "    .dataframe tbody tr th {\n",
              "        vertical-align: top;\n",
              "    }\n",
              "\n",
              "    .dataframe thead th {\n",
              "        text-align: right;\n",
              "    }\n",
              "</style>\n",
              "<table border=\"1\" class=\"dataframe\">\n",
              "  <thead>\n",
              "    <tr style=\"text-align: right;\">\n",
              "      <th></th>\n",
              "      <th>TEAM</th>\n",
              "      <th>CONF</th>\n",
              "      <th>G</th>\n",
              "      <th>W</th>\n",
              "      <th>ADJOE</th>\n",
              "      <th>ADJDE</th>\n",
              "      <th>BARTHAG</th>\n",
              "      <th>EFG_O</th>\n",
              "      <th>EFG_D</th>\n",
              "      <th>TOR</th>\n",
              "      <th>TORD</th>\n",
              "      <th>ORB</th>\n",
              "      <th>DRB</th>\n",
              "      <th>FTR</th>\n",
              "      <th>FTRD</th>\n",
              "      <th>2P_O</th>\n",
              "      <th>2P_D</th>\n",
              "      <th>3P_O</th>\n",
              "      <th>3P_D</th>\n",
              "      <th>ADJ_T</th>\n",
              "      <th>WAB</th>\n",
              "      <th>POSTSEASON</th>\n",
              "      <th>SEED</th>\n",
              "      <th>YEAR</th>\n",
              "    </tr>\n",
              "  </thead>\n",
              "  <tbody>\n",
              "    <tr>\n",
              "      <th>0</th>\n",
              "      <td>North Carolina</td>\n",
              "      <td>ACC</td>\n",
              "      <td>40</td>\n",
              "      <td>33</td>\n",
              "      <td>123.3</td>\n",
              "      <td>94.9</td>\n",
              "      <td>0.9531</td>\n",
              "      <td>52.6</td>\n",
              "      <td>48.1</td>\n",
              "      <td>15.4</td>\n",
              "      <td>18.2</td>\n",
              "      <td>40.7</td>\n",
              "      <td>30.0</td>\n",
              "      <td>32.3</td>\n",
              "      <td>30.4</td>\n",
              "      <td>53.9</td>\n",
              "      <td>44.6</td>\n",
              "      <td>32.7</td>\n",
              "      <td>36.2</td>\n",
              "      <td>71.7</td>\n",
              "      <td>8.6</td>\n",
              "      <td>2ND</td>\n",
              "      <td>1.0</td>\n",
              "      <td>2016</td>\n",
              "    </tr>\n",
              "    <tr>\n",
              "      <th>1</th>\n",
              "      <td>Villanova</td>\n",
              "      <td>BE</td>\n",
              "      <td>40</td>\n",
              "      <td>35</td>\n",
              "      <td>123.1</td>\n",
              "      <td>90.9</td>\n",
              "      <td>0.9703</td>\n",
              "      <td>56.1</td>\n",
              "      <td>46.7</td>\n",
              "      <td>16.3</td>\n",
              "      <td>20.6</td>\n",
              "      <td>28.2</td>\n",
              "      <td>29.4</td>\n",
              "      <td>34.1</td>\n",
              "      <td>30.0</td>\n",
              "      <td>57.4</td>\n",
              "      <td>44.1</td>\n",
              "      <td>36.2</td>\n",
              "      <td>33.9</td>\n",
              "      <td>66.7</td>\n",
              "      <td>8.9</td>\n",
              "      <td>Champions</td>\n",
              "      <td>2.0</td>\n",
              "      <td>2016</td>\n",
              "    </tr>\n",
              "    <tr>\n",
              "      <th>2</th>\n",
              "      <td>Notre Dame</td>\n",
              "      <td>ACC</td>\n",
              "      <td>36</td>\n",
              "      <td>24</td>\n",
              "      <td>118.3</td>\n",
              "      <td>103.3</td>\n",
              "      <td>0.8269</td>\n",
              "      <td>54.0</td>\n",
              "      <td>49.5</td>\n",
              "      <td>15.3</td>\n",
              "      <td>14.8</td>\n",
              "      <td>32.7</td>\n",
              "      <td>32.1</td>\n",
              "      <td>32.9</td>\n",
              "      <td>26.0</td>\n",
              "      <td>52.9</td>\n",
              "      <td>46.5</td>\n",
              "      <td>37.4</td>\n",
              "      <td>36.9</td>\n",
              "      <td>65.5</td>\n",
              "      <td>2.3</td>\n",
              "      <td>E8</td>\n",
              "      <td>6.0</td>\n",
              "      <td>2016</td>\n",
              "    </tr>\n",
              "    <tr>\n",
              "      <th>3</th>\n",
              "      <td>Virginia</td>\n",
              "      <td>ACC</td>\n",
              "      <td>37</td>\n",
              "      <td>29</td>\n",
              "      <td>119.9</td>\n",
              "      <td>91.0</td>\n",
              "      <td>0.9600</td>\n",
              "      <td>54.8</td>\n",
              "      <td>48.4</td>\n",
              "      <td>15.1</td>\n",
              "      <td>18.8</td>\n",
              "      <td>29.9</td>\n",
              "      <td>25.2</td>\n",
              "      <td>32.1</td>\n",
              "      <td>33.4</td>\n",
              "      <td>52.6</td>\n",
              "      <td>46.3</td>\n",
              "      <td>40.3</td>\n",
              "      <td>34.7</td>\n",
              "      <td>61.9</td>\n",
              "      <td>8.6</td>\n",
              "      <td>E8</td>\n",
              "      <td>1.0</td>\n",
              "      <td>2016</td>\n",
              "    </tr>\n",
              "    <tr>\n",
              "      <th>4</th>\n",
              "      <td>Kansas</td>\n",
              "      <td>B12</td>\n",
              "      <td>37</td>\n",
              "      <td>32</td>\n",
              "      <td>120.9</td>\n",
              "      <td>90.4</td>\n",
              "      <td>0.9662</td>\n",
              "      <td>55.7</td>\n",
              "      <td>45.1</td>\n",
              "      <td>17.8</td>\n",
              "      <td>18.5</td>\n",
              "      <td>32.2</td>\n",
              "      <td>27.9</td>\n",
              "      <td>38.6</td>\n",
              "      <td>37.3</td>\n",
              "      <td>52.7</td>\n",
              "      <td>43.4</td>\n",
              "      <td>41.3</td>\n",
              "      <td>32.5</td>\n",
              "      <td>70.1</td>\n",
              "      <td>11.6</td>\n",
              "      <td>E8</td>\n",
              "      <td>1.0</td>\n",
              "      <td>2016</td>\n",
              "    </tr>\n",
              "  </tbody>\n",
              "</table>\n",
              "</div>"
            ],
            "text/plain": [
              "             TEAM CONF   G   W  ADJOE  ...  ADJ_T   WAB  POSTSEASON  SEED  YEAR\n",
              "0  North Carolina  ACC  40  33  123.3  ...   71.7   8.6         2ND   1.0  2016\n",
              "1       Villanova   BE  40  35  123.1  ...   66.7   8.9   Champions   2.0  2016\n",
              "2      Notre Dame  ACC  36  24  118.3  ...   65.5   2.3          E8   6.0  2016\n",
              "3        Virginia  ACC  37  29  119.9  ...   61.9   8.6          E8   1.0  2016\n",
              "4          Kansas  B12  37  32  120.9  ...   70.1  11.6          E8   1.0  2016\n",
              "\n",
              "[5 rows x 24 columns]"
            ]
          },
          "metadata": {},
          "execution_count": 137
        }
      ],
      "source": [
        "df = pd.read_csv('https://s3-api.us-geo.objectstorage.softlayer.net/cf-courses-data/CognitiveClass/ML0120ENv3/Dataset/ML0101EN_EDX_skill_up/cbb.csv')\n",
        "df.head()"
      ]
    },
    {
      "cell_type": "code",
      "execution_count": 138,
      "metadata": {
        "colab": {
          "base_uri": "https://localhost:8080/"
        },
        "id": "k1O-vAJzMWXk",
        "outputId": "d24e13ff-9464-47f1-ee90-7384efb28af4"
      },
      "outputs": [
        {
          "output_type": "execute_result",
          "data": {
            "text/plain": [
              "(1406, 24)"
            ]
          },
          "metadata": {},
          "execution_count": 138
        }
      ],
      "source": [
        "df.shape"
      ]
    },
    {
      "cell_type": "markdown",
      "metadata": {
        "id": "mHmpXqCZMWXk"
      },
      "source": [
        "## Añadir Columna\n",
        "\n",
        "A continuación añadiremos una columna que mostrará \"true\" si las victorias sobre la burbuja superan las 7 y \"false\" si no. Nombraremos esta columna Win Index o \"windex\" para abreviar.\n"
      ]
    },
    {
      "cell_type": "code",
      "execution_count": 139,
      "metadata": {
        "id": "EhvNwtLzMWXk"
      },
      "outputs": [],
      "source": [
        "df['windex'] = np.where(df.WAB > 7, 'True', 'False')"
      ]
    },
    {
      "cell_type": "markdown",
      "metadata": {
        "button": false,
        "new_sheet": false,
        "run_control": {
          "read_only": false
        },
        "id": "hfTuAC9DMWXk"
      },
      "source": [
        "# Visualización de los Datos y pre procesamiento\n"
      ]
    },
    {
      "cell_type": "markdown",
      "metadata": {
        "button": false,
        "new_sheet": false,
        "run_control": {
          "read_only": false
        },
        "id": "B91c32AyMWXk"
      },
      "source": [
        "Después filtraremos los equipos dentro del conjunto de datos que lograrón un \"Sweet Sixteen\", \"Elite Eight\" y \"Final Four\". Generaremos además un nuevo dataframe que mantendra los valores de la nueva columna.\n"
      ]
    },
    {
      "cell_type": "code",
      "execution_count": 140,
      "metadata": {
        "colab": {
          "base_uri": "https://localhost:8080/",
          "height": 243
        },
        "id": "2DDwyUzTMWXk",
        "outputId": "9e66bedb-ec6c-466f-89fc-bfdf9aaeee78"
      },
      "outputs": [
        {
          "output_type": "execute_result",
          "data": {
            "text/html": [
              "<div>\n",
              "<style scoped>\n",
              "    .dataframe tbody tr th:only-of-type {\n",
              "        vertical-align: middle;\n",
              "    }\n",
              "\n",
              "    .dataframe tbody tr th {\n",
              "        vertical-align: top;\n",
              "    }\n",
              "\n",
              "    .dataframe thead th {\n",
              "        text-align: right;\n",
              "    }\n",
              "</style>\n",
              "<table border=\"1\" class=\"dataframe\">\n",
              "  <thead>\n",
              "    <tr style=\"text-align: right;\">\n",
              "      <th></th>\n",
              "      <th>TEAM</th>\n",
              "      <th>CONF</th>\n",
              "      <th>G</th>\n",
              "      <th>W</th>\n",
              "      <th>ADJOE</th>\n",
              "      <th>ADJDE</th>\n",
              "      <th>BARTHAG</th>\n",
              "      <th>EFG_O</th>\n",
              "      <th>EFG_D</th>\n",
              "      <th>TOR</th>\n",
              "      <th>TORD</th>\n",
              "      <th>ORB</th>\n",
              "      <th>DRB</th>\n",
              "      <th>FTR</th>\n",
              "      <th>FTRD</th>\n",
              "      <th>2P_O</th>\n",
              "      <th>2P_D</th>\n",
              "      <th>3P_O</th>\n",
              "      <th>3P_D</th>\n",
              "      <th>ADJ_T</th>\n",
              "      <th>WAB</th>\n",
              "      <th>POSTSEASON</th>\n",
              "      <th>SEED</th>\n",
              "      <th>YEAR</th>\n",
              "      <th>windex</th>\n",
              "    </tr>\n",
              "  </thead>\n",
              "  <tbody>\n",
              "    <tr>\n",
              "      <th>2</th>\n",
              "      <td>Notre Dame</td>\n",
              "      <td>ACC</td>\n",
              "      <td>36</td>\n",
              "      <td>24</td>\n",
              "      <td>118.3</td>\n",
              "      <td>103.3</td>\n",
              "      <td>0.8269</td>\n",
              "      <td>54.0</td>\n",
              "      <td>49.5</td>\n",
              "      <td>15.3</td>\n",
              "      <td>14.8</td>\n",
              "      <td>32.7</td>\n",
              "      <td>32.1</td>\n",
              "      <td>32.9</td>\n",
              "      <td>26.0</td>\n",
              "      <td>52.9</td>\n",
              "      <td>46.5</td>\n",
              "      <td>37.4</td>\n",
              "      <td>36.9</td>\n",
              "      <td>65.5</td>\n",
              "      <td>2.3</td>\n",
              "      <td>E8</td>\n",
              "      <td>6.0</td>\n",
              "      <td>2016</td>\n",
              "      <td>False</td>\n",
              "    </tr>\n",
              "    <tr>\n",
              "      <th>3</th>\n",
              "      <td>Virginia</td>\n",
              "      <td>ACC</td>\n",
              "      <td>37</td>\n",
              "      <td>29</td>\n",
              "      <td>119.9</td>\n",
              "      <td>91.0</td>\n",
              "      <td>0.9600</td>\n",
              "      <td>54.8</td>\n",
              "      <td>48.4</td>\n",
              "      <td>15.1</td>\n",
              "      <td>18.8</td>\n",
              "      <td>29.9</td>\n",
              "      <td>25.2</td>\n",
              "      <td>32.1</td>\n",
              "      <td>33.4</td>\n",
              "      <td>52.6</td>\n",
              "      <td>46.3</td>\n",
              "      <td>40.3</td>\n",
              "      <td>34.7</td>\n",
              "      <td>61.9</td>\n",
              "      <td>8.6</td>\n",
              "      <td>E8</td>\n",
              "      <td>1.0</td>\n",
              "      <td>2016</td>\n",
              "      <td>True</td>\n",
              "    </tr>\n",
              "    <tr>\n",
              "      <th>4</th>\n",
              "      <td>Kansas</td>\n",
              "      <td>B12</td>\n",
              "      <td>37</td>\n",
              "      <td>32</td>\n",
              "      <td>120.9</td>\n",
              "      <td>90.4</td>\n",
              "      <td>0.9662</td>\n",
              "      <td>55.7</td>\n",
              "      <td>45.1</td>\n",
              "      <td>17.8</td>\n",
              "      <td>18.5</td>\n",
              "      <td>32.2</td>\n",
              "      <td>27.9</td>\n",
              "      <td>38.6</td>\n",
              "      <td>37.3</td>\n",
              "      <td>52.7</td>\n",
              "      <td>43.4</td>\n",
              "      <td>41.3</td>\n",
              "      <td>32.5</td>\n",
              "      <td>70.1</td>\n",
              "      <td>11.6</td>\n",
              "      <td>E8</td>\n",
              "      <td>1.0</td>\n",
              "      <td>2016</td>\n",
              "      <td>True</td>\n",
              "    </tr>\n",
              "    <tr>\n",
              "      <th>5</th>\n",
              "      <td>Oregon</td>\n",
              "      <td>P12</td>\n",
              "      <td>37</td>\n",
              "      <td>30</td>\n",
              "      <td>118.4</td>\n",
              "      <td>96.2</td>\n",
              "      <td>0.9163</td>\n",
              "      <td>52.3</td>\n",
              "      <td>48.9</td>\n",
              "      <td>16.1</td>\n",
              "      <td>20.2</td>\n",
              "      <td>34.1</td>\n",
              "      <td>30.5</td>\n",
              "      <td>40.3</td>\n",
              "      <td>32.0</td>\n",
              "      <td>52.6</td>\n",
              "      <td>46.1</td>\n",
              "      <td>34.4</td>\n",
              "      <td>36.2</td>\n",
              "      <td>69.0</td>\n",
              "      <td>6.7</td>\n",
              "      <td>E8</td>\n",
              "      <td>1.0</td>\n",
              "      <td>2016</td>\n",
              "      <td>False</td>\n",
              "    </tr>\n",
              "    <tr>\n",
              "      <th>6</th>\n",
              "      <td>Syracuse</td>\n",
              "      <td>ACC</td>\n",
              "      <td>37</td>\n",
              "      <td>23</td>\n",
              "      <td>111.9</td>\n",
              "      <td>93.6</td>\n",
              "      <td>0.8857</td>\n",
              "      <td>50.0</td>\n",
              "      <td>47.3</td>\n",
              "      <td>18.1</td>\n",
              "      <td>20.4</td>\n",
              "      <td>33.5</td>\n",
              "      <td>35.3</td>\n",
              "      <td>35.4</td>\n",
              "      <td>28.0</td>\n",
              "      <td>47.2</td>\n",
              "      <td>48.1</td>\n",
              "      <td>36.0</td>\n",
              "      <td>30.7</td>\n",
              "      <td>65.5</td>\n",
              "      <td>-0.3</td>\n",
              "      <td>F4</td>\n",
              "      <td>10.0</td>\n",
              "      <td>2016</td>\n",
              "      <td>False</td>\n",
              "    </tr>\n",
              "  </tbody>\n",
              "</table>\n",
              "</div>"
            ],
            "text/plain": [
              "         TEAM CONF   G   W  ADJOE  ...   WAB  POSTSEASON  SEED  YEAR  windex\n",
              "2  Notre Dame  ACC  36  24  118.3  ...   2.3          E8   6.0  2016   False\n",
              "3    Virginia  ACC  37  29  119.9  ...   8.6          E8   1.0  2016    True\n",
              "4      Kansas  B12  37  32  120.9  ...  11.6          E8   1.0  2016    True\n",
              "5      Oregon  P12  37  30  118.4  ...   6.7          E8   1.0  2016   False\n",
              "6    Syracuse  ACC  37  23  111.9  ...  -0.3          F4  10.0  2016   False\n",
              "\n",
              "[5 rows x 25 columns]"
            ]
          },
          "metadata": {},
          "execution_count": 140
        }
      ],
      "source": [
        "df1 = df.loc[df['POSTSEASON'].str.contains('F4|S16|E8', na=False)]\n",
        "df1.head()"
      ]
    },
    {
      "cell_type": "code",
      "execution_count": 141,
      "metadata": {
        "button": false,
        "new_sheet": false,
        "run_control": {
          "read_only": false
        },
        "colab": {
          "base_uri": "https://localhost:8080/"
        },
        "id": "crLJYU1-MWXl",
        "outputId": "2866317e-e26a-4dfb-880d-855d2f5d7a7d"
      },
      "outputs": [
        {
          "output_type": "execute_result",
          "data": {
            "text/plain": [
              "S16    32\n",
              "E8     16\n",
              "F4      8\n",
              "Name: POSTSEASON, dtype: int64"
            ]
          },
          "metadata": {},
          "execution_count": 141
        }
      ],
      "source": [
        "df1['POSTSEASON'].value_counts()"
      ]
    },
    {
      "cell_type": "markdown",
      "metadata": {
        "button": false,
        "new_sheet": false,
        "run_control": {
          "read_only": false
        },
        "id": "Fud9hFA6MWXl"
      },
      "source": [
        "32 equipos alcanzarón a llegar a Sweet Sixteen, 16 a Elite Eight y 8 a Final Four a lo largo de 5 temporadas.\n"
      ]
    },
    {
      "cell_type": "markdown",
      "metadata": {
        "id": "ZItTMM7kMWXl"
      },
      "source": [
        "Grafiquemos algunas columnas para entender mejor la información:\n"
      ]
    },
    {
      "cell_type": "code",
      "execution_count": 142,
      "metadata": {
        "colab": {
          "base_uri": "https://localhost:8080/"
        },
        "id": "NyhNIanZMWXl",
        "outputId": "919274dd-87e4-4228-e318-3e047bd9f598"
      },
      "outputs": [
        {
          "output_type": "stream",
          "name": "stdout",
          "text": [
            "/bin/bash: conda: command not found\n"
          ]
        }
      ],
      "source": [
        "# observación: la instalación de seaborn podría tomar algunos minutos.\n",
        "!conda install -c anaconda seaborn -y"
      ]
    },
    {
      "cell_type": "code",
      "execution_count": 143,
      "metadata": {
        "colab": {
          "base_uri": "https://localhost:8080/",
          "height": 225
        },
        "id": "fUndU0_WMWXl",
        "outputId": "8c5a574e-34ef-469f-dde0-b355f3143e83"
      },
      "outputs": [
        {
          "output_type": "display_data",
          "data": {
            "image/png": "[encoded data removed]",
            "text/plain": [
              "<Figure size 1296x216 with 2 Axes>"
            ]
          },
          "metadata": {
            "needs_background": "light"
          }
        }
      ],
      "source": [
        "import seaborn as sns\n",
        "\n",
        "bins = np.linspace(df1.BARTHAG.min(), df1.BARTHAG.max(), 10)\n",
        "g = sns.FacetGrid(df1, col=\"windex\", hue=\"POSTSEASON\", palette=\"Set1\", col_wrap=6)\n",
        "g.map(plt.hist, 'BARTHAG', bins=bins, ec=\"k\")\n",
        "\n",
        "g.axes[-1].legend()\n",
        "plt.show()"
      ]
    },
    {
      "cell_type": "code",
      "execution_count": 144,
      "metadata": {
        "button": false,
        "new_sheet": false,
        "run_control": {
          "read_only": false
        },
        "colab": {
          "base_uri": "https://localhost:8080/",
          "height": 225
        },
        "id": "GRDF8Et5MWXl",
        "outputId": "0f4aa4e0-219e-407c-c74e-a69b36a60562"
      },
      "outputs": [
        {
          "output_type": "display_data",
          "data": {
            "image/png": "[encoded data removed]",
            "text/plain": [
              "<Figure size 432x216 with 2 Axes>"
            ]
          },
          "metadata": {
            "needs_background": "light"
          }
        }
      ],
      "source": [
        "bins = np.linspace(df1.ADJOE.min(), df1.ADJOE.max(), 10)\n",
        "g = sns.FacetGrid(df1, col=\"windex\", hue=\"POSTSEASON\", palette=\"Set1\", col_wrap=2)\n",
        "g.map(plt.hist, 'ADJOE', bins=bins, ec=\"k\")\n",
        "\n",
        "g.axes[-1].legend()\n",
        "plt.show()"
      ]
    },
    {
      "cell_type": "markdown",
      "metadata": {
        "button": false,
        "new_sheet": false,
        "run_control": {
          "read_only": false
        },
        "id": "a4rgkEC6MWXm"
      },
      "source": [
        "# Pre procesamiento: selección/extracción de características\n"
      ]
    },
    {
      "cell_type": "markdown",
      "metadata": {
        "button": false,
        "new_sheet": false,
        "run_control": {
          "read_only": false
        },
        "id": "SM71loQwMWXm"
      },
      "source": [
        "### Veamos como se grafica el valor Adjusted Defense Efficiency ( Eficiencia Defensiva)\n"
      ]
    },
    {
      "cell_type": "code",
      "execution_count": 145,
      "metadata": {
        "button": false,
        "new_sheet": false,
        "run_control": {
          "read_only": false
        },
        "colab": {
          "base_uri": "https://localhost:8080/",
          "height": 225
        },
        "id": "NESBxmx7MWXm",
        "outputId": "e2b776cb-e762-4bc8-a06c-a41214e1a5a1"
      },
      "outputs": [
        {
          "output_type": "display_data",
          "data": {
            "image/png": "[encoded data removed]",
            "text/plain": [
              "<Figure size 432x216 with 2 Axes>"
            ]
          },
          "metadata": {
            "needs_background": "light"
          }
        }
      ],
      "source": [
        "bins = np.linspace(df1.ADJDE.min(), df1.ADJDE.max(), 10)\n",
        "g = sns.FacetGrid(df1, col=\"windex\", hue=\"POSTSEASON\", palette=\"Set1\", col_wrap=2)\n",
        "g.map(plt.hist, 'ADJDE', bins=bins, ec=\"k\")\n",
        "g.axes[-1].legend()\n",
        "plt.show()\n"
      ]
    },
    {
      "cell_type": "markdown",
      "metadata": {
        "button": false,
        "new_sheet": false,
        "run_control": {
          "read_only": false
        },
        "id": "rSvAPeCwMWXm"
      },
      "source": [
        "Observamos que estos datos no impactan en la habilidad de un equipo de poder alcanzar Final Four.\n"
      ]
    },
    {
      "cell_type": "markdown",
      "metadata": {
        "button": false,
        "new_sheet": false,
        "run_control": {
          "read_only": false
        },
        "id": "ZZxYj8LoMWXm"
      },
      "source": [
        "## Convertir características categóricas en valores numéricos\n"
      ]
    },
    {
      "cell_type": "markdown",
      "metadata": {
        "button": false,
        "new_sheet": false,
        "run_control": {
          "read_only": false
        },
        "id": "n8TUrIx-MWXm"
      },
      "source": [
        "Veamos la post temporada: \n"
      ]
    },
    {
      "cell_type": "code",
      "execution_count": 146,
      "metadata": {
        "button": false,
        "new_sheet": false,
        "run_control": {
          "read_only": false
        },
        "colab": {
          "base_uri": "https://localhost:8080/"
        },
        "id": "__pMzEqHMWXn",
        "outputId": "ef35e70e-90cb-4079-8371-7b994a742650"
      },
      "outputs": [
        {
          "output_type": "execute_result",
          "data": {
            "text/plain": [
              "windex  POSTSEASON\n",
              "False   S16           0.605263\n",
              "        E8            0.263158\n",
              "        F4            0.131579\n",
              "True    S16           0.500000\n",
              "        E8            0.333333\n",
              "        F4            0.166667\n",
              "Name: POSTSEASON, dtype: float64"
            ]
          },
          "metadata": {},
          "execution_count": 146
        }
      ],
      "source": [
        "df1.groupby(['windex'])['POSTSEASON'].value_counts(normalize=True)"
      ]
    },
    {
      "cell_type": "markdown",
      "metadata": {
        "button": false,
        "new_sheet": false,
        "run_control": {
          "read_only": false
        },
        "id": "6tDjKTLZMWXn"
      },
      "source": [
        "El 13% de los equipos con 6 o menos victorias sobre la burbuja llegaron a Final Four mientra que el 17% con 7 o mas lo hicierón.\n"
      ]
    },
    {
      "cell_type": "markdown",
      "metadata": {
        "button": false,
        "new_sheet": false,
        "run_control": {
          "read_only": false
        },
        "id": "DRX_saGWMWXn"
      },
      "source": [
        "Transformemos las victorias sobre la burbuja (winindex) abajo de 7 hasta 0 y arriba de 7 hasta 1:\n"
      ]
    },
    {
      "cell_type": "code",
      "execution_count": 147,
      "metadata": {
        "button": false,
        "new_sheet": false,
        "run_control": {
          "read_only": false
        },
        "colab": {
          "base_uri": "https://localhost:8080/",
          "height": 330
        },
        "id": "GAhKg00XMWXn",
        "outputId": "39f677d0-071f-4014-e298-1a07f8fe025d"
      },
      "outputs": [
        {
          "output_type": "stream",
          "name": "stderr",
          "text": [
            "/usr/local/lib/python3.7/dist-packages/pandas/core/series.py:4582: SettingWithCopyWarning: \n",
            "A value is trying to be set on a copy of a slice from a DataFrame\n",
            "\n",
            "See the caveats in the documentation: https://pandas.pydata.org/pandas-docs/stable/user_guide/indexing.html#returning-a-view-versus-a-copy\n",
            "  method=method,\n"
          ]
        },
        {
          "output_type": "execute_result",
          "data": {
            "text/html": [
              "<div>\n",
              "<style scoped>\n",
              "    .dataframe tbody tr th:only-of-type {\n",
              "        vertical-align: middle;\n",
              "    }\n",
              "\n",
              "    .dataframe tbody tr th {\n",
              "        vertical-align: top;\n",
              "    }\n",
              "\n",
              "    .dataframe thead th {\n",
              "        text-align: right;\n",
              "    }\n",
              "</style>\n",
              "<table border=\"1\" class=\"dataframe\">\n",
              "  <thead>\n",
              "    <tr style=\"text-align: right;\">\n",
              "      <th></th>\n",
              "      <th>TEAM</th>\n",
              "      <th>CONF</th>\n",
              "      <th>G</th>\n",
              "      <th>W</th>\n",
              "      <th>ADJOE</th>\n",
              "      <th>ADJDE</th>\n",
              "      <th>BARTHAG</th>\n",
              "      <th>EFG_O</th>\n",
              "      <th>EFG_D</th>\n",
              "      <th>TOR</th>\n",
              "      <th>TORD</th>\n",
              "      <th>ORB</th>\n",
              "      <th>DRB</th>\n",
              "      <th>FTR</th>\n",
              "      <th>FTRD</th>\n",
              "      <th>2P_O</th>\n",
              "      <th>2P_D</th>\n",
              "      <th>3P_O</th>\n",
              "      <th>3P_D</th>\n",
              "      <th>ADJ_T</th>\n",
              "      <th>WAB</th>\n",
              "      <th>POSTSEASON</th>\n",
              "      <th>SEED</th>\n",
              "      <th>YEAR</th>\n",
              "      <th>windex</th>\n",
              "    </tr>\n",
              "  </thead>\n",
              "  <tbody>\n",
              "    <tr>\n",
              "      <th>2</th>\n",
              "      <td>Notre Dame</td>\n",
              "      <td>ACC</td>\n",
              "      <td>36</td>\n",
              "      <td>24</td>\n",
              "      <td>118.3</td>\n",
              "      <td>103.3</td>\n",
              "      <td>0.8269</td>\n",
              "      <td>54.0</td>\n",
              "      <td>49.5</td>\n",
              "      <td>15.3</td>\n",
              "      <td>14.8</td>\n",
              "      <td>32.7</td>\n",
              "      <td>32.1</td>\n",
              "      <td>32.9</td>\n",
              "      <td>26.0</td>\n",
              "      <td>52.9</td>\n",
              "      <td>46.5</td>\n",
              "      <td>37.4</td>\n",
              "      <td>36.9</td>\n",
              "      <td>65.5</td>\n",
              "      <td>2.3</td>\n",
              "      <td>E8</td>\n",
              "      <td>6.0</td>\n",
              "      <td>2016</td>\n",
              "      <td>0</td>\n",
              "    </tr>\n",
              "    <tr>\n",
              "      <th>3</th>\n",
              "      <td>Virginia</td>\n",
              "      <td>ACC</td>\n",
              "      <td>37</td>\n",
              "      <td>29</td>\n",
              "      <td>119.9</td>\n",
              "      <td>91.0</td>\n",
              "      <td>0.9600</td>\n",
              "      <td>54.8</td>\n",
              "      <td>48.4</td>\n",
              "      <td>15.1</td>\n",
              "      <td>18.8</td>\n",
              "      <td>29.9</td>\n",
              "      <td>25.2</td>\n",
              "      <td>32.1</td>\n",
              "      <td>33.4</td>\n",
              "      <td>52.6</td>\n",
              "      <td>46.3</td>\n",
              "      <td>40.3</td>\n",
              "      <td>34.7</td>\n",
              "      <td>61.9</td>\n",
              "      <td>8.6</td>\n",
              "      <td>E8</td>\n",
              "      <td>1.0</td>\n",
              "      <td>2016</td>\n",
              "      <td>1</td>\n",
              "    </tr>\n",
              "    <tr>\n",
              "      <th>4</th>\n",
              "      <td>Kansas</td>\n",
              "      <td>B12</td>\n",
              "      <td>37</td>\n",
              "      <td>32</td>\n",
              "      <td>120.9</td>\n",
              "      <td>90.4</td>\n",
              "      <td>0.9662</td>\n",
              "      <td>55.7</td>\n",
              "      <td>45.1</td>\n",
              "      <td>17.8</td>\n",
              "      <td>18.5</td>\n",
              "      <td>32.2</td>\n",
              "      <td>27.9</td>\n",
              "      <td>38.6</td>\n",
              "      <td>37.3</td>\n",
              "      <td>52.7</td>\n",
              "      <td>43.4</td>\n",
              "      <td>41.3</td>\n",
              "      <td>32.5</td>\n",
              "      <td>70.1</td>\n",
              "      <td>11.6</td>\n",
              "      <td>E8</td>\n",
              "      <td>1.0</td>\n",
              "      <td>2016</td>\n",
              "      <td>1</td>\n",
              "    </tr>\n",
              "    <tr>\n",
              "      <th>5</th>\n",
              "      <td>Oregon</td>\n",
              "      <td>P12</td>\n",
              "      <td>37</td>\n",
              "      <td>30</td>\n",
              "      <td>118.4</td>\n",
              "      <td>96.2</td>\n",
              "      <td>0.9163</td>\n",
              "      <td>52.3</td>\n",
              "      <td>48.9</td>\n",
              "      <td>16.1</td>\n",
              "      <td>20.2</td>\n",
              "      <td>34.1</td>\n",
              "      <td>30.5</td>\n",
              "      <td>40.3</td>\n",
              "      <td>32.0</td>\n",
              "      <td>52.6</td>\n",
              "      <td>46.1</td>\n",
              "      <td>34.4</td>\n",
              "      <td>36.2</td>\n",
              "      <td>69.0</td>\n",
              "      <td>6.7</td>\n",
              "      <td>E8</td>\n",
              "      <td>1.0</td>\n",
              "      <td>2016</td>\n",
              "      <td>0</td>\n",
              "    </tr>\n",
              "    <tr>\n",
              "      <th>6</th>\n",
              "      <td>Syracuse</td>\n",
              "      <td>ACC</td>\n",
              "      <td>37</td>\n",
              "      <td>23</td>\n",
              "      <td>111.9</td>\n",
              "      <td>93.6</td>\n",
              "      <td>0.8857</td>\n",
              "      <td>50.0</td>\n",
              "      <td>47.3</td>\n",
              "      <td>18.1</td>\n",
              "      <td>20.4</td>\n",
              "      <td>33.5</td>\n",
              "      <td>35.3</td>\n",
              "      <td>35.4</td>\n",
              "      <td>28.0</td>\n",
              "      <td>47.2</td>\n",
              "      <td>48.1</td>\n",
              "      <td>36.0</td>\n",
              "      <td>30.7</td>\n",
              "      <td>65.5</td>\n",
              "      <td>-0.3</td>\n",
              "      <td>F4</td>\n",
              "      <td>10.0</td>\n",
              "      <td>2016</td>\n",
              "      <td>0</td>\n",
              "    </tr>\n",
              "  </tbody>\n",
              "</table>\n",
              "</div>"
            ],
            "text/plain": [
              "         TEAM CONF   G   W  ADJOE  ...   WAB  POSTSEASON  SEED  YEAR  windex\n",
              "2  Notre Dame  ACC  36  24  118.3  ...   2.3          E8   6.0  2016       0\n",
              "3    Virginia  ACC  37  29  119.9  ...   8.6          E8   1.0  2016       1\n",
              "4      Kansas  B12  37  32  120.9  ...  11.6          E8   1.0  2016       1\n",
              "5      Oregon  P12  37  30  118.4  ...   6.7          E8   1.0  2016       0\n",
              "6    Syracuse  ACC  37  23  111.9  ...  -0.3          F4  10.0  2016       0\n",
              "\n",
              "[5 rows x 25 columns]"
            ]
          },
          "metadata": {},
          "execution_count": 147
        }
      ],
      "source": [
        "df1['windex'].replace(to_replace=['False','True'], value=[0,1],inplace=True)\n",
        "df1.head()"
      ]
    },
    {
      "cell_type": "markdown",
      "metadata": {
        "button": false,
        "new_sheet": false,
        "run_control": {
          "read_only": false
        },
        "id": "YuNAjz2UMWXn"
      },
      "source": [
        "### Selección de característica\n"
      ]
    },
    {
      "cell_type": "markdown",
      "metadata": {
        "button": false,
        "new_sheet": false,
        "run_control": {
          "read_only": false
        },
        "id": "A0tvYyF-MWXn"
      },
      "source": [
        "Definamos los conjuntos de características, X:\n"
      ]
    },
    {
      "cell_type": "code",
      "execution_count": 148,
      "metadata": {
        "button": false,
        "new_sheet": false,
        "run_control": {
          "read_only": false
        },
        "colab": {
          "base_uri": "https://localhost:8080/",
          "height": 0
        },
        "id": "MpgRCLnaMWXn",
        "outputId": "75595217-9cc7-4076-b218-2fed7cd69452"
      },
      "outputs": [
        {
          "output_type": "execute_result",
          "data": {
            "text/html": [
              "<div>\n",
              "<style scoped>\n",
              "    .dataframe tbody tr th:only-of-type {\n",
              "        vertical-align: middle;\n",
              "    }\n",
              "\n",
              "    .dataframe tbody tr th {\n",
              "        vertical-align: top;\n",
              "    }\n",
              "\n",
              "    .dataframe thead th {\n",
              "        text-align: right;\n",
              "    }\n",
              "</style>\n",
              "<table border=\"1\" class=\"dataframe\">\n",
              "  <thead>\n",
              "    <tr style=\"text-align: right;\">\n",
              "      <th></th>\n",
              "      <th>G</th>\n",
              "      <th>W</th>\n",
              "      <th>ADJOE</th>\n",
              "      <th>ADJDE</th>\n",
              "      <th>BARTHAG</th>\n",
              "      <th>EFG_O</th>\n",
              "      <th>EFG_D</th>\n",
              "      <th>TOR</th>\n",
              "      <th>TORD</th>\n",
              "      <th>ORB</th>\n",
              "      <th>DRB</th>\n",
              "      <th>FTR</th>\n",
              "      <th>FTRD</th>\n",
              "      <th>2P_O</th>\n",
              "      <th>2P_D</th>\n",
              "      <th>3P_O</th>\n",
              "      <th>3P_D</th>\n",
              "      <th>ADJ_T</th>\n",
              "      <th>WAB</th>\n",
              "      <th>SEED</th>\n",
              "      <th>windex</th>\n",
              "    </tr>\n",
              "  </thead>\n",
              "  <tbody>\n",
              "    <tr>\n",
              "      <th>2</th>\n",
              "      <td>36</td>\n",
              "      <td>24</td>\n",
              "      <td>118.3</td>\n",
              "      <td>103.3</td>\n",
              "      <td>0.8269</td>\n",
              "      <td>54.0</td>\n",
              "      <td>49.5</td>\n",
              "      <td>15.3</td>\n",
              "      <td>14.8</td>\n",
              "      <td>32.7</td>\n",
              "      <td>32.1</td>\n",
              "      <td>32.9</td>\n",
              "      <td>26.0</td>\n",
              "      <td>52.9</td>\n",
              "      <td>46.5</td>\n",
              "      <td>37.4</td>\n",
              "      <td>36.9</td>\n",
              "      <td>65.5</td>\n",
              "      <td>2.3</td>\n",
              "      <td>6.0</td>\n",
              "      <td>0</td>\n",
              "    </tr>\n",
              "    <tr>\n",
              "      <th>3</th>\n",
              "      <td>37</td>\n",
              "      <td>29</td>\n",
              "      <td>119.9</td>\n",
              "      <td>91.0</td>\n",
              "      <td>0.9600</td>\n",
              "      <td>54.8</td>\n",
              "      <td>48.4</td>\n",
              "      <td>15.1</td>\n",
              "      <td>18.8</td>\n",
              "      <td>29.9</td>\n",
              "      <td>25.2</td>\n",
              "      <td>32.1</td>\n",
              "      <td>33.4</td>\n",
              "      <td>52.6</td>\n",
              "      <td>46.3</td>\n",
              "      <td>40.3</td>\n",
              "      <td>34.7</td>\n",
              "      <td>61.9</td>\n",
              "      <td>8.6</td>\n",
              "      <td>1.0</td>\n",
              "      <td>1</td>\n",
              "    </tr>\n",
              "    <tr>\n",
              "      <th>4</th>\n",
              "      <td>37</td>\n",
              "      <td>32</td>\n",
              "      <td>120.9</td>\n",
              "      <td>90.4</td>\n",
              "      <td>0.9662</td>\n",
              "      <td>55.7</td>\n",
              "      <td>45.1</td>\n",
              "      <td>17.8</td>\n",
              "      <td>18.5</td>\n",
              "      <td>32.2</td>\n",
              "      <td>27.9</td>\n",
              "      <td>38.6</td>\n",
              "      <td>37.3</td>\n",
              "      <td>52.7</td>\n",
              "      <td>43.4</td>\n",
              "      <td>41.3</td>\n",
              "      <td>32.5</td>\n",
              "      <td>70.1</td>\n",
              "      <td>11.6</td>\n",
              "      <td>1.0</td>\n",
              "      <td>1</td>\n",
              "    </tr>\n",
              "    <tr>\n",
              "      <th>5</th>\n",
              "      <td>37</td>\n",
              "      <td>30</td>\n",
              "      <td>118.4</td>\n",
              "      <td>96.2</td>\n",
              "      <td>0.9163</td>\n",
              "      <td>52.3</td>\n",
              "      <td>48.9</td>\n",
              "      <td>16.1</td>\n",
              "      <td>20.2</td>\n",
              "      <td>34.1</td>\n",
              "      <td>30.5</td>\n",
              "      <td>40.3</td>\n",
              "      <td>32.0</td>\n",
              "      <td>52.6</td>\n",
              "      <td>46.1</td>\n",
              "      <td>34.4</td>\n",
              "      <td>36.2</td>\n",
              "      <td>69.0</td>\n",
              "      <td>6.7</td>\n",
              "      <td>1.0</td>\n",
              "      <td>0</td>\n",
              "    </tr>\n",
              "    <tr>\n",
              "      <th>6</th>\n",
              "      <td>37</td>\n",
              "      <td>23</td>\n",
              "      <td>111.9</td>\n",
              "      <td>93.6</td>\n",
              "      <td>0.8857</td>\n",
              "      <td>50.0</td>\n",
              "      <td>47.3</td>\n",
              "      <td>18.1</td>\n",
              "      <td>20.4</td>\n",
              "      <td>33.5</td>\n",
              "      <td>35.3</td>\n",
              "      <td>35.4</td>\n",
              "      <td>28.0</td>\n",
              "      <td>47.2</td>\n",
              "      <td>48.1</td>\n",
              "      <td>36.0</td>\n",
              "      <td>30.7</td>\n",
              "      <td>65.5</td>\n",
              "      <td>-0.3</td>\n",
              "      <td>10.0</td>\n",
              "      <td>0</td>\n",
              "    </tr>\n",
              "  </tbody>\n",
              "</table>\n",
              "</div>"
            ],
            "text/plain": [
              "    G   W  ADJOE  ADJDE  BARTHAG  EFG_O  ...  3P_O  3P_D  ADJ_T   WAB  SEED  windex\n",
              "2  36  24  118.3  103.3   0.8269   54.0  ...  37.4  36.9   65.5   2.3   6.0       0\n",
              "3  37  29  119.9   91.0   0.9600   54.8  ...  40.3  34.7   61.9   8.6   1.0       1\n",
              "4  37  32  120.9   90.4   0.9662   55.7  ...  41.3  32.5   70.1  11.6   1.0       1\n",
              "5  37  30  118.4   96.2   0.9163   52.3  ...  34.4  36.2   69.0   6.7   1.0       0\n",
              "6  37  23  111.9   93.6   0.8857   50.0  ...  36.0  30.7   65.5  -0.3  10.0       0\n",
              "\n",
              "[5 rows x 21 columns]"
            ]
          },
          "metadata": {},
          "execution_count": 148
        }
      ],
      "source": [
        "X = df1[['G', 'W', 'ADJOE', 'ADJDE', 'BARTHAG', 'EFG_O', 'EFG_D',\n",
        "       'TOR', 'TORD', 'ORB', 'DRB', 'FTR', 'FTRD', '2P_O', '2P_D', '3P_O',\n",
        "       '3P_D', 'ADJ_T', 'WAB', 'SEED', 'windex']]\n",
        "X[0:5]"
      ]
    },
    {
      "cell_type": "markdown",
      "metadata": {
        "button": false,
        "new_sheet": false,
        "run_control": {
          "read_only": false
        },
        "id": "fZQXDz70MWXn"
      },
      "source": [
        "¿Cuales son nuestras etiquetas? Rondas donde el equipo fue eliminado o donde finalizó su temporada (R68 = Primeros Cuatro, R64 = Ronda de 64, R32 = Ronda de 32, S16 = Sweet Sixteen, E8 = Elite Eight, F4 = Ultimos Cuatro, 2ND = Subcampeón, Champion = Ganador del NCAA March Madness Tournament de ese año)\n"
      ]
    },
    {
      "cell_type": "code",
      "execution_count": 149,
      "metadata": {
        "button": false,
        "new_sheet": false,
        "run_control": {
          "read_only": false
        },
        "colab": {
          "base_uri": "https://localhost:8080/"
        },
        "id": "ppy2xxt5MWXn",
        "outputId": "5c7c7e57-f91a-4db1-cd7a-534f0bec5c60"
      },
      "outputs": [
        {
          "output_type": "execute_result",
          "data": {
            "text/plain": [
              "array(['E8', 'E8', 'E8', 'E8', 'F4'], dtype=object)"
            ]
          },
          "metadata": {},
          "execution_count": 149
        }
      ],
      "source": [
        "y = df1['POSTSEASON'].values\n",
        "y[0:5]"
      ]
    },
    {
      "cell_type": "markdown",
      "metadata": {
        "button": false,
        "new_sheet": false,
        "run_control": {
          "read_only": false
        },
        "id": "WQhy5ChPMWXo"
      },
      "source": [
        "## Datos Normalizados\n"
      ]
    },
    {
      "cell_type": "markdown",
      "metadata": {
        "button": false,
        "new_sheet": false,
        "run_control": {
          "read_only": false
        },
        "id": "yp074hbzMWXo"
      },
      "source": [
        "La estandarización de los datos le da a estos una media de cero y varianza con valor de la unidad (tecnicamente debería hacerse despues de la división entre grupos de prueba y entrenamiento)\n"
      ]
    },
    {
      "cell_type": "code",
      "execution_count": 150,
      "metadata": {
        "button": false,
        "new_sheet": false,
        "run_control": {
          "read_only": false
        },
        "colab": {
          "base_uri": "https://localhost:8080/"
        },
        "id": "z8ytM0bqMWXo",
        "outputId": "4442f6be-c9c0-4480-dd88-4b3f2a4f11dc"
      },
      "outputs": [
        {
          "output_type": "execute_result",
          "data": {
            "text/plain": [
              "array([[-0.43331874, -1.26140173,  0.28034482,  2.74329908, -2.45717765,\n",
              "         0.10027963,  0.94171924, -1.16188145, -1.71391372,  0.12750511,\n",
              "         1.33368704, -0.4942211 , -0.87998988,  0.02784185,  0.00307239,\n",
              "         0.22576157,  1.59744386, -1.12106011, -1.0448016 ,  0.49716104,\n",
              "        -0.6882472 ],\n",
              "       [ 0.40343468,  0.35874728,  0.64758014, -0.90102957,  1.127076  ,\n",
              "         0.39390887,  0.38123706, -1.29466791, -0.03522254, -0.62979797,\n",
              "        -1.31585883, -0.68542235,  0.55458056, -0.07167795, -0.0829545 ,\n",
              "         1.32677295,  0.65081046, -2.369021  ,  0.98050611, -1.14054592,\n",
              "         1.45296631],\n",
              "       [ 0.40343468,  1.33083669,  0.87710222, -1.0788017 ,  1.29403598,\n",
              "         0.72424177, -1.30020946,  0.49794919, -0.16112438, -0.00772758,\n",
              "        -0.27908001,  0.86808783,  1.31063795, -0.03850468, -1.33034432,\n",
              "         1.70643205, -0.29582294,  0.47355659,  1.94493836, -1.14054592,\n",
              "         1.45296631],\n",
              "       [ 0.40343468,  0.68277708,  0.30329703,  0.63966222, -0.04972253,\n",
              "        -0.52368251,  0.63600169, -0.63073565,  0.55231938,  0.50615665,\n",
              "         0.71929959,  1.2743905 ,  0.28317534, -0.07167795, -0.16898138,\n",
              "        -0.91321572,  1.29624232,  0.0922352 ,  0.36969903, -1.14054592,\n",
              "        -0.6882472 ],\n",
              "       [ 0.40343468, -1.58543153, -1.18859646, -0.13068368, -0.87375079,\n",
              "        -1.36786658, -0.17924511,  0.69712887,  0.63625394,  0.34387742,\n",
              "         2.56246194,  0.10328282, -0.49226814, -1.8630343 ,  0.69128747,\n",
              "        -0.30576117, -1.07034117, -1.12106011, -1.88064288,  1.80732661,\n",
              "        -0.6882472 ]])"
            ]
          },
          "metadata": {},
          "execution_count": 150
        }
      ],
      "source": [
        "X= preprocessing.StandardScaler().fit(X).transform(X)\n",
        "X[0:5]"
      ]
    },
    {
      "cell_type": "markdown",
      "metadata": {
        "button": false,
        "new_sheet": false,
        "run_control": {
          "read_only": false
        },
        "id": "PRHT1qBIMWXo"
      },
      "source": [
        "## Entrenamiento y Validación\n"
      ]
    },
    {
      "cell_type": "markdown",
      "metadata": {
        "button": false,
        "new_sheet": false,
        "run_control": {
          "read_only": false
        },
        "id": "snb2a8DLMWXo"
      },
      "source": [
        "Dividir el conjunto entre datos de entrenamiento y validación.\n"
      ]
    },
    {
      "cell_type": "code",
      "execution_count": 151,
      "metadata": {
        "button": false,
        "new_sheet": false,
        "run_control": {
          "read_only": false
        },
        "colab": {
          "base_uri": "https://localhost:8080/"
        },
        "id": "y59GPcwPMWXo",
        "outputId": "6f8392e5-ac57-4acc-dc0f-297a019432d7"
      },
      "outputs": [
        {
          "output_type": "stream",
          "name": "stdout",
          "text": [
            "Train set: (44, 21) (44,)\n",
            "Validation set: (12, 21) (12,)\n"
          ]
        }
      ],
      "source": [
        "# Dividir X entre entrenamiento y prueba para encontrar el mejor valor de k\n",
        "from sklearn.model_selection import train_test_split\n",
        "X_train, X_val, y_train, y_val = train_test_split(X, y, test_size=0.2, random_state=4)\n",
        "print ('Train set:', X_train.shape,  y_train.shape)\n",
        "print ('Validation set:', X_val.shape,  y_val.shape)"
      ]
    },
    {
      "cell_type": "markdown",
      "metadata": {
        "button": false,
        "new_sheet": false,
        "run_control": {
          "read_only": false
        },
        "id": "yIy0xDvRMWXp"
      },
      "source": [
        "# Clasificación\n"
      ]
    },
    {
      "cell_type": "markdown",
      "metadata": {
        "button": false,
        "new_sheet": false,
        "run_control": {
          "read_only": false
        },
        "id": "fQDWNFNoMWXp"
      },
      "source": [
        "Ahora es su turno, utilice el conjunto de entrenamiento para construir un modelo preciso. Despues use el conjunto de validación para reportar la precisión del modelo. \n",
        "Deberá utilizar el siguiente algoritmo:\n",
        "\n",
        "-   K Nearest Neighbor(KNN)\n",
        "-   Arbol de Decisión\n",
        "-   Maquina de Soporte Vectorial (SVM) \n",
        "-   Regresión Logística\n"
      ]
    },
    {
      "cell_type": "markdown",
      "metadata": {
        "id": "9AR7uR5VMWXp"
      },
      "source": [
        "# K Nearest Neighbor(KNN)\n",
        "\n",
        "<b>Pregunta  1 </b> Construya un modelo KNN donde k sea igual a cinco, encuentre la precisión de los datos de validación (X_val y y_val)\n"
      ]
    },
    {
      "cell_type": "markdown",
      "metadata": {
        "id": "3K655zOnMWXp"
      },
      "source": [
        "Puede utilizar <code> accuracy_score</cdoe>\n"
      ]
    },
    {
      "cell_type": "code",
      "execution_count": 152,
      "metadata": {
        "colab": {
          "base_uri": "https://localhost:8080/"
        },
        "id": "Nl1hFcEmMWXp",
        "outputId": "fbc52b39-aa5e-413e-c696-ad0085956f89"
      },
      "outputs": [
        {
          "output_type": "stream",
          "name": "stdout",
          "text": [
            "Entrenar el set de Certeza:  0.6363636363636364\n",
            "Probar el set de Certeza:  0.6666666666666666\n"
          ]
        }
      ],
      "source": [
        "from sklearn.metrics import accuracy_score\n",
        "from sklearn.neighbors import KNeighborsClassifier\n",
        "\n",
        "\n",
        "k = 5\n",
        "neigh = KNeighborsClassifier(n_neighbors=k).fit(X_train, y_train)\n",
        "yhat = neigh.predict(X_val)\n",
        "print(\"Entrenar el set de Certeza: \", accuracy_score(y_train, neigh.predict(X_train)))\n",
        "print(\"Probar el set de Certeza: \", accuracy_score(y_val, yhat))"
      ]
    },
    {
      "cell_type": "markdown",
      "metadata": {
        "id": "pjeNMhDiMWXp"
      },
      "source": [
        "<b>Pregunta  2</b> Determine e imprima la precisión para los primeros 15 valores de k en los datos de validación:\n"
      ]
    },
    {
      "cell_type": "code",
      "execution_count": 153,
      "metadata": {
        "colab": {
          "base_uri": "https://localhost:8080/"
        },
        "id": "MMxjH2zsMWXq",
        "outputId": "29d9fc80-1847-4255-80dc-6145a84c5870"
      },
      "outputs": [
        {
          "output_type": "stream",
          "name": "stdout",
          "text": [
            "precision entrenamiento: [1.0, 0.6363636363636364, 0.6363636363636364, 0.6363636363636364, 0.6363636363636364, 0.5909090909090909, 0.5681818181818182, 0.5909090909090909, 0.5454545454545454, 0.6136363636363636, 0.5909090909090909, 0.6136363636363636, 0.6363636363636364, 0.6136363636363636, 0.5909090909090909]\n",
            "precision prediccion: [0.3333333333333333, 0.3333333333333333, 0.5, 0.5833333333333334, 0.6666666666666666, 0.5833333333333334, 0.5833333333333334, 0.6666666666666666, 0.5833333333333334, 0.5833333333333334, 0.5833333333333334, 0.5, 0.5833333333333334, 0.5833333333333334, 0.5833333333333334]\n"
          ]
        }
      ],
      "source": [
        "# En los datos de validación solamente tenemos 12 muestras. \n",
        "# Por esto, no podremos mostrar 15.\n",
        "\n",
        "train_accuracy = []\n",
        "test_accuracy = []\n",
        "Ks = 16\n",
        "\n",
        "for k in range(1, Ks):\n",
        "  knn = KNeighborsClassifier(n_neighbors=k).fit(X_train, y_train)\n",
        "  yhat = knn.predict(X_val)\n",
        "  train_accuracy.append(accuracy_score(y_train, knn.predict(X_train)))\n",
        "  test_accuracy.append(accuracy_score(y_val, yhat))\n",
        "\n",
        "print(\"precision entrenamiento:\", train_accuracy)\n",
        "print(\"precision prediccion:\", test_accuracy)"
      ]
    },
    {
      "cell_type": "code",
      "source": [
        "plt.plot(range(1, Ks), test_accuracy, 'g')\n",
        "plt.legend(('Certeza ', 'irrelevant'))\n",
        "plt.ylabel('Certeza ')\n",
        "plt.xlabel('Número de Vecinos (K)')\n",
        "plt.tight_layout()\n",
        "plt.show()"
      ],
      "metadata": {
        "colab": {
          "base_uri": "https://localhost:8080/",
          "height": 297
        },
        "id": "ka4U4CYCS8Ev",
        "outputId": "a4b19c0f-4623-4dad-bfba-70574fa8f961"
      },
      "execution_count": 154,
      "outputs": [
        {
          "output_type": "display_data",
          "data": {
            "image/png": "[encoded data removed]",
            "text/plain": [
              "<Figure size 432x288 with 1 Axes>"
            ]
          },
          "metadata": {
            "needs_background": "light"
          }
        }
      ]
    },
    {
      "cell_type": "markdown",
      "metadata": {
        "id": "R9NrtzzaMWXq"
      },
      "source": [
        "# Arbol de Decisión\n"
      ]
    },
    {
      "cell_type": "markdown",
      "metadata": {
        "id": "g20T6-2jMWXq"
      },
      "source": [
        "Las siguientes líneas de código se ajustan en <code>DecisionTreeClassifier</code>:\n"
      ]
    },
    {
      "cell_type": "code",
      "execution_count": 155,
      "metadata": {
        "id": "7X1tYtE-MWXq"
      },
      "outputs": [],
      "source": [
        "from sklearn.tree import DecisionTreeClassifier"
      ]
    },
    {
      "cell_type": "markdown",
      "metadata": {
        "id": "9lASuiEmMWXq"
      },
      "source": [
        "<b>Pregunta  3</b> Determine el valor mínimo para el parámetro <code>max_depth</code> que mejora los resultados\n"
      ]
    },
    {
      "cell_type": "code",
      "execution_count": 156,
      "metadata": {
        "colab": {
          "base_uri": "https://localhost:8080/"
        },
        "id": "xR9Hb0gQMWXq",
        "outputId": "bbcaefeb-3293-471b-8f7c-397bde5ed004"
      },
      "outputs": [
        {
          "output_type": "stream",
          "name": "stdout",
          "text": [
            "accuracy: 0.6666666666666666, depth: 1\n"
          ]
        }
      ],
      "source": [
        "best_accuracy_score = -1\n",
        "best_depth = 0\n",
        "\n",
        "for depth in range(1, 100):\n",
        "  decisionTree = DecisionTreeClassifier(criterion=\"entropy\", max_depth = depth)\n",
        "  decisionTree.fit(X_train, y_train)\n",
        "  predTree = decisionTree.predict(X_val)\n",
        "  # print(predTree[0:5])\n",
        "  # print(y_val[0:5])\n",
        "  score = accuracy_score(y_val, predTree)\n",
        "  if best_accuracy_score < score:\n",
        "    best_accuracy_score = score\n",
        "    best_depth = depth\n",
        "  # print(f\"Precisión del Arbol de Decisión({depth}): {score}\")\n",
        "\n",
        "print(f\"accuracy: {best_accuracy_score}, depth: {best_depth}\")"
      ]
    },
    {
      "cell_type": "code",
      "source": [
        "  decisionTree = DecisionTreeClassifier(criterion=\"entropy\", max_depth = 1)\n",
        "  decisionTree.fit(X_train, y_train)"
      ],
      "metadata": {
        "colab": {
          "base_uri": "https://localhost:8080/"
        },
        "id": "4wOB8Ugua3K6",
        "outputId": "c4ff6a5b-6e43-412f-ea9f-309259e55485"
      },
      "execution_count": 157,
      "outputs": [
        {
          "output_type": "execute_result",
          "data": {
            "text/plain": [
              "DecisionTreeClassifier(criterion='entropy', max_depth=1)"
            ]
          },
          "metadata": {},
          "execution_count": 157
        }
      ]
    },
    {
      "cell_type": "markdown",
      "metadata": {
        "id": "6WmBMxWuMWXq"
      },
      "source": [
        "# Maquina de Soporte Vectorial (SVM)\n"
      ]
    },
    {
      "cell_type": "markdown",
      "metadata": {
        "id": "CH1PDicqMWXq"
      },
      "source": [
        "<b>Pregunta  4</b> Entrene el modelo Maquina de Soporte Vectorial y determine la precisión de los datos de validación de cada nucleo. Encuentre el nucleo ((linear, poly, rbf, sigmoid) que otorge la mejor puntuación para los datos y entrene un SVM con el.\n"
      ]
    },
    {
      "cell_type": "code",
      "execution_count": 158,
      "metadata": {
        "id": "wPQlvFYDMWXr"
      },
      "outputs": [],
      "source": [
        "from sklearn import svm\n",
        "from sklearn.metrics import classification_report"
      ]
    },
    {
      "cell_type": "code",
      "execution_count": 159,
      "metadata": {
        "colab": {
          "base_uri": "https://localhost:8080/"
        },
        "id": "nfxcNjRDMWXr",
        "outputId": "ababc131-638e-406e-f638-171b47119bd3"
      },
      "outputs": [
        {
          "output_type": "stream",
          "name": "stdout",
          "text": [
            "======linear======\n",
            "              precision    recall  f1-score   support\n",
            "\n",
            "          E8       0.14      0.50      0.22         2\n",
            "          F4       0.00      0.00      0.00         2\n",
            "         S16       0.40      0.25      0.31         8\n",
            "\n",
            "    accuracy                           0.25        12\n",
            "   macro avg       0.18      0.25      0.18        12\n",
            "weighted avg       0.29      0.25      0.24        12\n",
            "\n",
            "======rbf======\n",
            "              precision    recall  f1-score   support\n",
            "\n",
            "          E8       0.00      0.00      0.00         2\n",
            "          F4       0.00      0.00      0.00         2\n",
            "         S16       0.64      0.88      0.74         8\n",
            "\n",
            "    accuracy                           0.58        12\n",
            "   macro avg       0.21      0.29      0.25        12\n",
            "weighted avg       0.42      0.58      0.49        12\n",
            "\n",
            "======poly======\n",
            "              precision    recall  f1-score   support\n",
            "\n",
            "          E8       0.00      0.00      0.00         2\n",
            "          F4       0.00      0.00      0.00         2\n",
            "         S16       0.67      1.00      0.80         8\n",
            "\n",
            "    accuracy                           0.67        12\n",
            "   macro avg       0.22      0.33      0.27        12\n",
            "weighted avg       0.44      0.67      0.53        12\n",
            "\n",
            "======sigmoid======\n",
            "              precision    recall  f1-score   support\n",
            "\n",
            "          E8       0.33      0.50      0.40         2\n",
            "          F4       0.00      0.00      0.00         2\n",
            "         S16       0.67      0.75      0.71         8\n",
            "\n",
            "    accuracy                           0.58        12\n",
            "   macro avg       0.33      0.42      0.37        12\n",
            "weighted avg       0.50      0.58      0.54        12\n",
            "\n"
          ]
        },
        {
          "output_type": "stream",
          "name": "stderr",
          "text": [
            "/usr/local/lib/python3.7/dist-packages/sklearn/metrics/_classification.py:1308: UndefinedMetricWarning: Precision and F-score are ill-defined and being set to 0.0 in labels with no predicted samples. Use `zero_division` parameter to control this behavior.\n",
            "  _warn_prf(average, modifier, msg_start, len(result))\n",
            "/usr/local/lib/python3.7/dist-packages/sklearn/metrics/_classification.py:1308: UndefinedMetricWarning: Precision and F-score are ill-defined and being set to 0.0 in labels with no predicted samples. Use `zero_division` parameter to control this behavior.\n",
            "  _warn_prf(average, modifier, msg_start, len(result))\n",
            "/usr/local/lib/python3.7/dist-packages/sklearn/metrics/_classification.py:1308: UndefinedMetricWarning: Precision and F-score are ill-defined and being set to 0.0 in labels with no predicted samples. Use `zero_division` parameter to control this behavior.\n",
            "  _warn_prf(average, modifier, msg_start, len(result))\n",
            "/usr/local/lib/python3.7/dist-packages/sklearn/metrics/_classification.py:1308: UndefinedMetricWarning: Precision and F-score are ill-defined and being set to 0.0 in labels with no predicted samples. Use `zero_division` parameter to control this behavior.\n",
            "  _warn_prf(average, modifier, msg_start, len(result))\n",
            "/usr/local/lib/python3.7/dist-packages/sklearn/metrics/_classification.py:1308: UndefinedMetricWarning: Precision and F-score are ill-defined and being set to 0.0 in labels with no predicted samples. Use `zero_division` parameter to control this behavior.\n",
            "  _warn_prf(average, modifier, msg_start, len(result))\n",
            "/usr/local/lib/python3.7/dist-packages/sklearn/metrics/_classification.py:1308: UndefinedMetricWarning: Precision and F-score are ill-defined and being set to 0.0 in labels with no predicted samples. Use `zero_division` parameter to control this behavior.\n",
            "  _warn_prf(average, modifier, msg_start, len(result))\n",
            "/usr/local/lib/python3.7/dist-packages/sklearn/metrics/_classification.py:1308: UndefinedMetricWarning: Precision and F-score are ill-defined and being set to 0.0 in labels with no predicted samples. Use `zero_division` parameter to control this behavior.\n",
            "  _warn_prf(average, modifier, msg_start, len(result))\n",
            "/usr/local/lib/python3.7/dist-packages/sklearn/metrics/_classification.py:1308: UndefinedMetricWarning: Precision and F-score are ill-defined and being set to 0.0 in labels with no predicted samples. Use `zero_division` parameter to control this behavior.\n",
            "  _warn_prf(average, modifier, msg_start, len(result))\n",
            "/usr/local/lib/python3.7/dist-packages/sklearn/metrics/_classification.py:1308: UndefinedMetricWarning: Precision and F-score are ill-defined and being set to 0.0 in labels with no predicted samples. Use `zero_division` parameter to control this behavior.\n",
            "  _warn_prf(average, modifier, msg_start, len(result))\n",
            "/usr/local/lib/python3.7/dist-packages/sklearn/metrics/_classification.py:1308: UndefinedMetricWarning: Precision and F-score are ill-defined and being set to 0.0 in labels with no predicted samples. Use `zero_division` parameter to control this behavior.\n",
            "  _warn_prf(average, modifier, msg_start, len(result))\n",
            "/usr/local/lib/python3.7/dist-packages/sklearn/metrics/_classification.py:1308: UndefinedMetricWarning: Precision and F-score are ill-defined and being set to 0.0 in labels with no predicted samples. Use `zero_division` parameter to control this behavior.\n",
            "  _warn_prf(average, modifier, msg_start, len(result))\n",
            "/usr/local/lib/python3.7/dist-packages/sklearn/metrics/_classification.py:1308: UndefinedMetricWarning: Precision and F-score are ill-defined and being set to 0.0 in labels with no predicted samples. Use `zero_division` parameter to control this behavior.\n",
            "  _warn_prf(average, modifier, msg_start, len(result))\n"
          ]
        }
      ],
      "source": [
        "kernels = ['linear', 'rbf', 'poly', 'sigmoid']\n",
        "\n",
        "for kernel in kernels:\n",
        "  clf = svm.SVC(kernel=kernel)\n",
        "  clf.fit(X_train, y_train)\n",
        "  yhat = clf.predict(X_val)\n",
        "  print(f\"======{kernel}======\")\n",
        "  print(classification_report(y_val, yhat))\n"
      ]
    },
    {
      "cell_type": "code",
      "source": [
        "# hemos visto que el nucleo sigmoid nos da los mejores resultados  \n",
        "clf = svm.SVC(kernel='sigmoid')\n",
        "clf.fit(X_train, y_train)\n",
        "yhat = clf.predict(X_val)"
      ],
      "metadata": {
        "id": "P1VVOfopYZpz"
      },
      "execution_count": 160,
      "outputs": []
    },
    {
      "cell_type": "markdown",
      "metadata": {
        "id": "3bU688xUMWXr"
      },
      "source": [
        "# Regresión Logística\n"
      ]
    },
    {
      "cell_type": "markdown",
      "metadata": {
        "id": "h2_IsWixMWXr"
      },
      "source": [
        "<b>Pregunta 5</b> Entrene un modelo de regresión logística y determine la precisión de los datos de validación (set C=0.01)\n"
      ]
    },
    {
      "cell_type": "code",
      "execution_count": 161,
      "metadata": {
        "id": "F37ZatPIMWXr"
      },
      "outputs": [],
      "source": [
        "from sklearn.linear_model import LogisticRegression"
      ]
    },
    {
      "cell_type": "code",
      "execution_count": 162,
      "metadata": {
        "id": "eWnnONTSMWXr"
      },
      "outputs": [],
      "source": [
        "LR = LogisticRegression(C=0.01, solver='liblinear').fit(X_train,y_train)\n",
        "yhat = LR.predict(X_val)"
      ]
    },
    {
      "cell_type": "code",
      "source": [
        "# from sklearn.metrics import jaccard_similarity_score\n",
        "# jaccard_similarity_score(y_test, yhat)"
      ],
      "metadata": {
        "id": "IxjMV-wYZGE_"
      },
      "execution_count": 163,
      "outputs": []
    },
    {
      "cell_type": "markdown",
      "metadata": {
        "id": "tlw4N3JKMWXr"
      },
      "source": [
        "# Evaluación del Modelo con el Conjunto de Prueba\n"
      ]
    },
    {
      "cell_type": "code",
      "execution_count": 164,
      "metadata": {
        "id": "wqZ28CbqMWXr"
      },
      "outputs": [],
      "source": [
        "from sklearn.metrics import f1_score\n",
        "# para f1_score establezca el promedio del parámetro en 'micro'\n",
        "from sklearn.metrics import log_loss"
      ]
    },
    {
      "cell_type": "code",
      "execution_count": 165,
      "metadata": {
        "id": "ZVmdk80iMWXr"
      },
      "outputs": [],
      "source": [
        "def jaccard_index(predictions, true):\n",
        "    if (len(predictions) == len(true)):\n",
        "        intersect = 0;\n",
        "        for x,y in zip(predictions, true):\n",
        "            if (x == y):\n",
        "                intersect += 1\n",
        "        return intersect / (len(predictions) + len(true) - intersect)\n",
        "    else:\n",
        "        return -1"
      ]
    },
    {
      "cell_type": "markdown",
      "metadata": {
        "id": "omXYTddBMWXr"
      },
      "source": [
        "<b>Pregunta  5</b> Calcule la puntuación de F1 y de la medida de Jaccard para cada modelo de arriba. Utilice el hiper parámetro de mejor desempeño para los datos de validación. **para f1_score establezca el promedio del parámetro en 'micro'.**\n"
      ]
    },
    {
      "cell_type": "markdown",
      "metadata": {
        "button": false,
        "new_sheet": false,
        "run_control": {
          "read_only": false
        },
        "id": "YE1NILWMMWXs"
      },
      "source": [
        "### Cargar el conjunto de prueba para la evaluación\n"
      ]
    },
    {
      "cell_type": "code",
      "execution_count": 166,
      "metadata": {
        "button": false,
        "new_sheet": false,
        "run_control": {
          "read_only": false
        },
        "colab": {
          "base_uri": "https://localhost:8080/",
          "height": 261
        },
        "id": "U4rpYgkaMWXs",
        "outputId": "774cef77-7ba9-440f-fe23-c07d4c0b680d"
      },
      "outputs": [
        {
          "output_type": "execute_result",
          "data": {
            "text/html": [
              "<div>\n",
              "<style scoped>\n",
              "    .dataframe tbody tr th:only-of-type {\n",
              "        vertical-align: middle;\n",
              "    }\n",
              "\n",
              "    .dataframe tbody tr th {\n",
              "        vertical-align: top;\n",
              "    }\n",
              "\n",
              "    .dataframe thead th {\n",
              "        text-align: right;\n",
              "    }\n",
              "</style>\n",
              "<table border=\"1\" class=\"dataframe\">\n",
              "  <thead>\n",
              "    <tr style=\"text-align: right;\">\n",
              "      <th></th>\n",
              "      <th>TEAM</th>\n",
              "      <th>CONF</th>\n",
              "      <th>G</th>\n",
              "      <th>W</th>\n",
              "      <th>ADJOE</th>\n",
              "      <th>ADJDE</th>\n",
              "      <th>BARTHAG</th>\n",
              "      <th>EFG_O</th>\n",
              "      <th>EFG_D</th>\n",
              "      <th>TOR</th>\n",
              "      <th>TORD</th>\n",
              "      <th>ORB</th>\n",
              "      <th>DRB</th>\n",
              "      <th>FTR</th>\n",
              "      <th>FTRD</th>\n",
              "      <th>2P_O</th>\n",
              "      <th>2P_D</th>\n",
              "      <th>3P_O</th>\n",
              "      <th>3P_D</th>\n",
              "      <th>ADJ_T</th>\n",
              "      <th>WAB</th>\n",
              "      <th>POSTSEASON</th>\n",
              "      <th>SEED</th>\n",
              "      <th>YEAR</th>\n",
              "    </tr>\n",
              "  </thead>\n",
              "  <tbody>\n",
              "    <tr>\n",
              "      <th>0</th>\n",
              "      <td>North Carolina</td>\n",
              "      <td>ACC</td>\n",
              "      <td>40</td>\n",
              "      <td>33</td>\n",
              "      <td>123.3</td>\n",
              "      <td>94.9</td>\n",
              "      <td>0.9531</td>\n",
              "      <td>52.6</td>\n",
              "      <td>48.1</td>\n",
              "      <td>15.4</td>\n",
              "      <td>18.2</td>\n",
              "      <td>40.7</td>\n",
              "      <td>30.0</td>\n",
              "      <td>32.3</td>\n",
              "      <td>30.4</td>\n",
              "      <td>53.9</td>\n",
              "      <td>44.6</td>\n",
              "      <td>32.7</td>\n",
              "      <td>36.2</td>\n",
              "      <td>71.7</td>\n",
              "      <td>8.6</td>\n",
              "      <td>2ND</td>\n",
              "      <td>1.0</td>\n",
              "      <td>2016</td>\n",
              "    </tr>\n",
              "    <tr>\n",
              "      <th>1</th>\n",
              "      <td>Villanova</td>\n",
              "      <td>BE</td>\n",
              "      <td>40</td>\n",
              "      <td>35</td>\n",
              "      <td>123.1</td>\n",
              "      <td>90.9</td>\n",
              "      <td>0.9703</td>\n",
              "      <td>56.1</td>\n",
              "      <td>46.7</td>\n",
              "      <td>16.3</td>\n",
              "      <td>20.6</td>\n",
              "      <td>28.2</td>\n",
              "      <td>29.4</td>\n",
              "      <td>34.1</td>\n",
              "      <td>30.0</td>\n",
              "      <td>57.4</td>\n",
              "      <td>44.1</td>\n",
              "      <td>36.2</td>\n",
              "      <td>33.9</td>\n",
              "      <td>66.7</td>\n",
              "      <td>8.9</td>\n",
              "      <td>Champions</td>\n",
              "      <td>2.0</td>\n",
              "      <td>2016</td>\n",
              "    </tr>\n",
              "    <tr>\n",
              "      <th>2</th>\n",
              "      <td>Notre Dame</td>\n",
              "      <td>ACC</td>\n",
              "      <td>36</td>\n",
              "      <td>24</td>\n",
              "      <td>118.3</td>\n",
              "      <td>103.3</td>\n",
              "      <td>0.8269</td>\n",
              "      <td>54.0</td>\n",
              "      <td>49.5</td>\n",
              "      <td>15.3</td>\n",
              "      <td>14.8</td>\n",
              "      <td>32.7</td>\n",
              "      <td>32.1</td>\n",
              "      <td>32.9</td>\n",
              "      <td>26.0</td>\n",
              "      <td>52.9</td>\n",
              "      <td>46.5</td>\n",
              "      <td>37.4</td>\n",
              "      <td>36.9</td>\n",
              "      <td>65.5</td>\n",
              "      <td>2.3</td>\n",
              "      <td>E8</td>\n",
              "      <td>6.0</td>\n",
              "      <td>2016</td>\n",
              "    </tr>\n",
              "    <tr>\n",
              "      <th>3</th>\n",
              "      <td>Virginia</td>\n",
              "      <td>ACC</td>\n",
              "      <td>37</td>\n",
              "      <td>29</td>\n",
              "      <td>119.9</td>\n",
              "      <td>91.0</td>\n",
              "      <td>0.9600</td>\n",
              "      <td>54.8</td>\n",
              "      <td>48.4</td>\n",
              "      <td>15.1</td>\n",
              "      <td>18.8</td>\n",
              "      <td>29.9</td>\n",
              "      <td>25.2</td>\n",
              "      <td>32.1</td>\n",
              "      <td>33.4</td>\n",
              "      <td>52.6</td>\n",
              "      <td>46.3</td>\n",
              "      <td>40.3</td>\n",
              "      <td>34.7</td>\n",
              "      <td>61.9</td>\n",
              "      <td>8.6</td>\n",
              "      <td>E8</td>\n",
              "      <td>1.0</td>\n",
              "      <td>2016</td>\n",
              "    </tr>\n",
              "    <tr>\n",
              "      <th>4</th>\n",
              "      <td>Kansas</td>\n",
              "      <td>B12</td>\n",
              "      <td>37</td>\n",
              "      <td>32</td>\n",
              "      <td>120.9</td>\n",
              "      <td>90.4</td>\n",
              "      <td>0.9662</td>\n",
              "      <td>55.7</td>\n",
              "      <td>45.1</td>\n",
              "      <td>17.8</td>\n",
              "      <td>18.5</td>\n",
              "      <td>32.2</td>\n",
              "      <td>27.9</td>\n",
              "      <td>38.6</td>\n",
              "      <td>37.3</td>\n",
              "      <td>52.7</td>\n",
              "      <td>43.4</td>\n",
              "      <td>41.3</td>\n",
              "      <td>32.5</td>\n",
              "      <td>70.1</td>\n",
              "      <td>11.6</td>\n",
              "      <td>E8</td>\n",
              "      <td>1.0</td>\n",
              "      <td>2016</td>\n",
              "    </tr>\n",
              "  </tbody>\n",
              "</table>\n",
              "</div>"
            ],
            "text/plain": [
              "             TEAM CONF   G   W  ADJOE  ...  ADJ_T   WAB  POSTSEASON  SEED  YEAR\n",
              "0  North Carolina  ACC  40  33  123.3  ...   71.7   8.6         2ND   1.0  2016\n",
              "1       Villanova   BE  40  35  123.1  ...   66.7   8.9   Champions   2.0  2016\n",
              "2      Notre Dame  ACC  36  24  118.3  ...   65.5   2.3          E8   6.0  2016\n",
              "3        Virginia  ACC  37  29  119.9  ...   61.9   8.6          E8   1.0  2016\n",
              "4          Kansas  B12  37  32  120.9  ...   70.1  11.6          E8   1.0  2016\n",
              "\n",
              "[5 rows x 24 columns]"
            ]
          },
          "metadata": {},
          "execution_count": 166
        }
      ],
      "source": [
        "test_df = pd.read_csv('https://s3-api.us-geo.objectstorage.softlayer.net/cf-courses-data/CognitiveClass/ML0120ENv3/Dataset/ML0101EN_EDX_skill_up/basketball_train.csv',error_bad_lines=False)\n",
        "test_df.head()"
      ]
    },
    {
      "cell_type": "code",
      "execution_count": 167,
      "metadata": {
        "colab": {
          "base_uri": "https://localhost:8080/"
        },
        "id": "IdIQSo8FMWXs",
        "outputId": "20b968d8-e658-4857-a275-14aa653fd89e"
      },
      "outputs": [
        {
          "output_type": "stream",
          "name": "stderr",
          "text": [
            "/usr/local/lib/python3.7/dist-packages/pandas/core/series.py:4582: SettingWithCopyWarning: \n",
            "A value is trying to be set on a copy of a slice from a DataFrame\n",
            "\n",
            "See the caveats in the documentation: https://pandas.pydata.org/pandas-docs/stable/user_guide/indexing.html#returning-a-view-versus-a-copy\n",
            "  method=method,\n"
          ]
        },
        {
          "output_type": "execute_result",
          "data": {
            "text/plain": [
              "array([[-4.08074446e-01, -1.10135297e+00,  3.37365934e-01,\n",
              "         2.66479976e+00, -2.46831661e+00,  2.13703245e-01,\n",
              "         9.44090550e-01, -1.19216365e+00, -1.64348924e+00,\n",
              "         1.45405982e-02,  1.29523097e+00, -6.23533182e-01,\n",
              "        -9.31788560e-01,  1.42784371e-01,  1.68876201e-01,\n",
              "         2.84500844e-01,  1.62625961e+00, -8.36649260e-01,\n",
              "        -9.98500539e-01,  4.84319174e-01, -6.77003200e-01],\n",
              "       [ 3.63958290e-01,  3.26326807e-01,  7.03145068e-01,\n",
              "        -7.13778644e-01,  1.07370841e+00,  4.82633172e-01,\n",
              "         4.77498943e-01, -1.32975879e+00, -6.86193316e-02,\n",
              "        -7.35448152e-01, -1.35447914e+00, -8.06829025e-01,\n",
              "         3.41737757e-01,  4.96641291e-02,  9.40576311e-02,\n",
              "         1.37214061e+00,  6.93854620e-01, -2.00860931e+00,\n",
              "         9.80549967e-01, -1.19401460e+00,  1.47709789e+00],\n",
              "       [ 3.63958290e-01,  1.18293467e+00,  9.31757027e-01,\n",
              "        -8.78587347e-01,  1.23870131e+00,  7.85179340e-01,\n",
              "        -9.22275877e-01,  5.27775662e-01, -1.86734575e-01,\n",
              "        -1.19385964e-01, -3.17636057e-01,  6.82449703e-01,\n",
              "         1.01292055e+00,  8.07042098e-02, -9.90811637e-01,\n",
              "         1.74718880e+00, -2.38550367e-01,  6.60855252e-01,\n",
              "         1.92295497e+00, -1.19401460e+00,  1.47709789e+00],\n",
              "       [ 3.63958290e-01,  6.11862762e-01,  3.60227129e-01,\n",
              "         7.14563447e-01, -8.92254236e-02, -3.57772849e-01,\n",
              "         6.89586037e-01, -6.41783067e-01,  4.82585136e-01,\n",
              "         3.89534973e-01,  6.80805434e-01,  1.07195337e+00,\n",
              "         1.00800346e-01,  4.96641291e-02,  1.92390609e-02,\n",
              "        -8.40643737e-01,  1.32958529e+00,  3.02756347e-01,\n",
              "         3.83693465e-01, -1.19401460e+00, -6.77003200e-01],\n",
              "       [ 3.63958290e-01, -1.38688893e+00, -1.12575060e+00,\n",
              "         3.92401673e-04, -9.03545224e-01, -1.13094639e+00,\n",
              "         1.09073363e-02,  7.34168378e-01,  5.61328631e-01,\n",
              "         2.28823098e-01,  2.52408203e+00, -5.07336709e-02,\n",
              "        -5.87592258e-01, -1.62650023e+00,  7.67424763e-01,\n",
              "        -2.40566627e-01, -1.00142717e+00, -8.36649260e-01,\n",
              "        -1.81525154e+00,  1.82698619e+00, -6.77003200e-01]])"
            ]
          },
          "metadata": {},
          "execution_count": 167
        }
      ],
      "source": [
        "test_df['windex'] = np.where(test_df.WAB > 7, 'True', 'False')\n",
        "test_df1 = test_df[test_df['POSTSEASON'].str.contains('F4|S16|E8', na=False)]\n",
        "test_Feature = test_df1[['G', 'W', 'ADJOE', 'ADJDE', 'BARTHAG', 'EFG_O', 'EFG_D',\n",
        "       'TOR', 'TORD', 'ORB', 'DRB', 'FTR', 'FTRD', '2P_O', '2P_D', '3P_O',\n",
        "       '3P_D', 'ADJ_T', 'WAB', 'SEED', 'windex']]\n",
        "test_Feature['windex'].replace(to_replace=['False','True'], value=[0,1],inplace=True)\n",
        "test_X=test_Feature\n",
        "test_X= preprocessing.StandardScaler().fit(test_X).transform(test_X)\n",
        "test_X[0:5]"
      ]
    },
    {
      "cell_type": "code",
      "execution_count": 168,
      "metadata": {
        "colab": {
          "base_uri": "https://localhost:8080/"
        },
        "id": "vekBJ4ljMWXs",
        "outputId": "224df652-754c-4e0b-f629-6f160d4c1b0f"
      },
      "outputs": [
        {
          "output_type": "execute_result",
          "data": {
            "text/plain": [
              "array(['E8', 'E8', 'E8', 'E8', 'F4'], dtype=object)"
            ]
          },
          "metadata": {},
          "execution_count": 168
        }
      ],
      "source": [
        "test_y = test_df1['POSTSEASON'].values\n",
        "test_y[0:5]"
      ]
    },
    {
      "cell_type": "markdown",
      "metadata": {
        "id": "mJGecgHJMWXs"
      },
      "source": [
        "KNN\n"
      ]
    },
    {
      "cell_type": "code",
      "execution_count": 169,
      "metadata": {
        "colab": {
          "base_uri": "https://localhost:8080/"
        },
        "id": "Ccz-_rRwMWXs",
        "outputId": "9bceb70f-1b1f-4273-f1d4-5d95b498afe6"
      },
      "outputs": [
        {
          "output_type": "stream",
          "name": "stdout",
          "text": [
            "accuracy_score: 0.6285714285714286\n",
            "jacard_index: 0.4583333333333333\n",
            "f1_score 0.6285714285714286\n"
          ]
        }
      ],
      "source": [
        "knn_y_hat = neigh.predict(test_X)\n",
        "print(\"accuracy_score:\", accuracy_score(test_y, knn_y_hat))\n",
        "print(\"jacard_index:\", jaccard_index(knn_y_hat, test_y))\n",
        "print(\"f1_score\", f1_score(test_y, knn_y_hat, average='micro'))\n",
        "# print(log_loss(test_y, knn_y_hat))"
      ]
    },
    {
      "cell_type": "markdown",
      "metadata": {
        "id": "dPNk4NPRMWXs"
      },
      "source": [
        "Arbol de Decisión\n"
      ]
    },
    {
      "cell_type": "code",
      "execution_count": 170,
      "metadata": {
        "colab": {
          "base_uri": "https://localhost:8080/"
        },
        "id": "70rtt45dMWXs",
        "outputId": "03fd2f9d-0fef-4006-a7cf-c08bb10462ed"
      },
      "outputs": [
        {
          "output_type": "stream",
          "name": "stdout",
          "text": [
            "accuracy_score: 0.6428571428571429\n",
            "jacard_index: 0.47368421052631576\n",
            "f1_score: 0.6428571428571429\n"
          ]
        }
      ],
      "source": [
        "decision_tree_y_hat = decisionTree.predict(test_X)\n",
        "print(\"accuracy_score:\", accuracy_score(test_y, decision_tree_y_hat))\n",
        "print(\"jacard_index:\", jaccard_index(decision_tree_y_hat, test_y))\n",
        "print(\"f1_score:\", f1_score(test_y, decision_tree_y_hat, average='micro'))\n",
        "# print(log_loss(test_y, decision_tree_y_hat))"
      ]
    },
    {
      "cell_type": "markdown",
      "metadata": {
        "id": "EOQXwlYMMWXs"
      },
      "source": [
        "SVM\n"
      ]
    },
    {
      "cell_type": "code",
      "execution_count": 171,
      "metadata": {
        "colab": {
          "base_uri": "https://localhost:8080/"
        },
        "id": "PJ8SA0gVMWXt",
        "outputId": "ee864d85-543c-4948-ea72-67e4a662677a"
      },
      "outputs": [
        {
          "output_type": "stream",
          "name": "stdout",
          "text": [
            "accuracy_score: 0.6\n",
            "jacard_index: 0.42857142857142855\n",
            "f1_score: 0.6\n"
          ]
        }
      ],
      "source": [
        "svm_y_hat = clf.predict(test_X)\n",
        "print(\"accuracy_score:\", accuracy_score(test_y, svm_y_hat))\n",
        "print(\"jacard_index:\", jaccard_index(svm_y_hat, test_y))\n",
        "print(\"f1_score:\",f1_score(test_y, svm_y_hat, average='micro'))\n",
        "# print(log_loss(test_y, svm_y_hat))"
      ]
    },
    {
      "cell_type": "markdown",
      "metadata": {
        "id": "hYs5SAZ2MWXt"
      },
      "source": [
        "Regresión Logistica\n"
      ]
    },
    {
      "cell_type": "code",
      "execution_count": 172,
      "metadata": {
        "colab": {
          "base_uri": "https://localhost:8080/"
        },
        "id": "meELpudPMWXt",
        "outputId": "aefd19db-2327-44b7-d6bd-d75b6e65c69a"
      },
      "outputs": [
        {
          "output_type": "stream",
          "name": "stdout",
          "text": [
            "accuracy_score: 0.6857142857142857\n",
            "jacard_index: 0.5217391304347826\n",
            "f1_score: 0.6857142857142857\n"
          ]
        }
      ],
      "source": [
        "lr_y_hat = LR.predict(test_X)\n",
        "print(\"accuracy_score:\", accuracy_score(test_y, lr_y_hat))\n",
        "print(\"jacard_index:\", jaccard_index(lr_y_hat, test_y))\n",
        "print(\"f1_score:\",f1_score(test_y, lr_y_hat, average='micro'))\n",
        "# print(log_loss(test_y, lr_y_hat))"
      ]
    },
    {
      "cell_type": "markdown",
      "metadata": {
        "id": "nI1hNn_IMWXt"
      },
      "source": [
        "# Reporte\n",
        "\n",
        "Deberá reportar la precisión del modelo utilizando distintas métricas de evaluación:\n"
      ]
    },
    {
      "cell_type": "markdown",
      "metadata": {
        "id": "2mZ3lDmZMWXt"
      },
      "source": [
        "| Algoritmo           | Precisión | Jaccard  | F1       | LogLoss |\n",
        "| ------------------- | --------- | -------- | -------- | ------- |\n",
        "| KNN                 | 0.628571  | 0.458333 | 0.628571 | NA      |\n",
        "| Arbol de Decisión   | 0.642857  | 0.473684 | 0.642857 | NA      |\n",
        "| SVM                 | 0.685714  | 0.521739 | 0.685714 | NA      |\n",
        "| Regresión Logística | 0.685714  | 0.521739 | 0.685714 | 1.03719 |\n"
      ]
    },
    {
      "cell_type": "markdown",
      "metadata": {
        "id": "XO4FP3NCMWXt"
      },
      "source": [
        "Algo a tener en cuenta cuando se crean modelos para predecir los resultados en torneos de baloncesto o deportes en general es su dificultad debido a la gran cantidad de factores que influyen en el juego. Incluso en deportes de apuestas, una precisión del 55% o mas se considera buena debido a que indica ganancias.\n"
      ]
    },
    {
      "cell_type": "markdown",
      "metadata": {
        "button": false,
        "new_sheet": false,
        "run_control": {
          "read_only": false
        },
        "id": "n-W6DnNnMWXt"
      },
      "source": [
        "<h2>¿Quiere aprender mas?</h2>\n",
        "\n",
        "IBM SPSS Modeler es una plataforma para el análisis que contiene muchos algoritmos de aprendizaje automático (machine learning). Ha sido diseñado con el fin de ofrecer predicciones inteligentes a las decisiones hechas por personas, grupos, sistemas - con la compañia como un todo. Una prueba gratuita esta disponible a traves de este curso desde aqui: <a href=\"http://cocl.us/ML0101EN-SPSSModeler\">SPSS Modeler</a>\n",
        "\n",
        "Además, puede utilizar Watson Studio para ejecutar estos cuardernos mas rápido y con conjuntos de datos mas grandes. Watson Studio es la solución líder de IBM en la nube para científicos de datos, contruido por científicos de datos. Con los cuadernos de Jupyter, RStudio, Apache Spark y librerías pre instaladas en la nube, Watson Studio permite a los científicos de datos colaborar en sus proyectos sin necesidad de instalar nada. Unase a la gran comunidad de usuarios de Watson Studio hoy con un cuenta gratuita en <a href=\"https://cocl.us/ML0101EN_DSX\">Watson Studio</a>\n",
        "\n",
        "<h3>Gracias por terminar esta lección</h3>\n",
        "\n",
        "<h4>Autores: <a href=\"https://www.linkedin.com/in/azim-hirjani-691a07179/\">Azim Hirjani</a> y <a href=\"https://www.linkedin.com/in/joseph-s-50398b136/\">Joseph Santarcangelo</a></h4>\n",
        "\n",
        "<p><a href=\"https://www.linkedin.com/in/joseph-s-50398b136/\" target=\"_blank\">Joseph Santarcangelo</a> es un Cientifico de Datos en IBM que posee un Doctorado en Ingeniería Electrica. Su investigación se enfoca en el uso de Aprendizaje Automático, Procesamiento de Señales y Visión Artificial para determinar el impacto de los videos en la cognición. Joseph ha trabajado para IBM desde el término de su doctorado.\n",
        "</p>\n",
        "\n",
        "<hr>\n",
        "\n",
        "<p>Copyright &copy; 2018 <a href=\"https://cocl.us/DX0108EN_CC\">Cognitive Class</a>. This notebook and its source code are released under the terms of the <a href=\"https://bigdatauniversity.com/mit-license/\">MIT License</a>.</p>\n"
      ]
    },
    {
      "cell_type": "code",
      "execution_count": 172,
      "metadata": {
        "id": "JJ5VXzPAMWXt"
      },
      "outputs": [],
      "source": [
        ""
      ]
    }
  ],
  "metadata": {
    "kernelspec": {
      "display_name": "Python 3",
      "language": "python",
      "name": "python3"
    },
    "language_info": {
      "codemirror_mode": {
        "name": "ipython",
        "version": 3
      },
      "file_extension": ".py",
      "mimetype": "text/x-python",
      "name": "python",
      "nbconvert_exporter": "python",
      "pygments_lexer": "ipython3",
      "version": "3.7.7"
    },
    "colab": {
      "name": "Tarea-DS-8_ES.ipynb",
      "provenance": [],
      "collapsed_sections": [
        "YuNAjz2UMWXn"
      ]
    }
  },
  "nbformat": 4,
  "nbformat_minor": 0
}